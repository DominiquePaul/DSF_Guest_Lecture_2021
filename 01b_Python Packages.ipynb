{
 "cells": [
  {
   "cell_type": "markdown",
   "metadata": {},
   "source": [
    "# Functions and re-using code in Python\n",
    "Last lesson we learnt the basic building blocks of Python. As we said back then, they represent most of the code you need to write complicated applications in Python.\n",
    "\n",
    "But as you also saw, the code is quite low level and we have to manually define many parts if we want to get to a programm with a higher level of sophistication (Think about how much code we had to write for our simple library application). We learnt how to use functions and how they can save us from manually writing a lot of code multiple times.\n",
    "\n",
    "Functions can be very useful, especially for re-using code that is not only useful for one application, but for multiple types of applications. Think about the integer reverse function or the longest substring function. Those could be useful components in many different kinds of programs (e.g. password security).\n",
    "\n",
    "What if we could save code in a way that allows us to use it in multiple projects, without having to copy paste it into the new project every time?\n",
    "\n",
    "Surprise! The makers of Pyton luckily thought about this.\n",
    "\n",
    "## Importing code from other python files\n",
    "Using the structure `from [file_name] import [function]` we can load functions from one Python script into another."
   ]
  },
  {
   "cell_type": "code",
   "execution_count": 1,
   "metadata": {},
   "outputs": [],
   "source": [
    "from my_function_collection import reverse_integer"
   ]
  },
  {
   "cell_type": "code",
   "execution_count": 2,
   "metadata": {
    "scrolled": true
   },
   "outputs": [
    {
     "name": "stdout",
     "output_type": "stream",
     "text": [
      "Result is  987654321\n"
     ]
    },
    {
     "data": {
      "text/plain": [
       "987654321"
      ]
     },
     "execution_count": 2,
     "metadata": {},
     "output_type": "execute_result"
    }
   ],
   "source": [
    "reverse_integer(123456789)"
   ]
  },
  {
   "cell_type": "markdown",
   "metadata": {},
   "source": [
    "We can also load variables or other objects"
   ]
  },
  {
   "cell_type": "code",
   "execution_count": 3,
   "metadata": {},
   "outputs": [],
   "source": [
    "from my_function_collection import PI"
   ]
  },
  {
   "cell_type": "code",
   "execution_count": 4,
   "metadata": {},
   "outputs": [
    {
     "data": {
      "text/plain": [
       "3.141"
      ]
     },
     "execution_count": 4,
     "metadata": {},
     "output_type": "execute_result"
    }
   ],
   "source": [
    "PI"
   ]
  },
  {
   "cell_type": "markdown",
   "metadata": {},
   "source": [
    "We can also import entire files and give them shortcut names. This is useful if we are using a lot of objects and functions, but don't want to import all manually. "
   ]
  },
  {
   "cell_type": "code",
   "execution_count": 5,
   "metadata": {},
   "outputs": [],
   "source": [
    "import my_function_collection as mfc"
   ]
  },
  {
   "cell_type": "code",
   "execution_count": 6,
   "metadata": {
    "scrolled": true
   },
   "outputs": [
    {
     "name": "stdout",
     "output_type": "stream",
     "text": [
      "Result is  987654321\n"
     ]
    },
    {
     "data": {
      "text/plain": [
       "987654321"
      ]
     },
     "execution_count": 6,
     "metadata": {},
     "output_type": "execute_result"
    }
   ],
   "source": [
    "mfc.reverse_integer(123456789)"
   ]
  },
  {
   "cell_type": "markdown",
   "metadata": {},
   "source": [
    "# Packages\n",
    "Python takes this step even further. Instead of only re-using code that we wrote our have stored locally, we can also use code written by other people in our projects. These are so-called libraries or packages, that we can import similarly as we did with our own scripts. Generally you can differentiate between packages built into Python and packages written by other people or organisations that were then shared on the internet.\n",
    "\n",
    "Some of you might have already used packages for the first assignment.\n",
    "\n",
    "## Built in packages\n",
    "Built in packages are shipped with your native python installation. They are available to you the second you have python installed on your computer. Interesting examples to try out are: \n",
    "* time\n",
    "* datetime\n",
    "* sys \n",
    "* math \n",
    "\n",
    "\n",
    "### Time"
   ]
  },
  {
   "cell_type": "code",
   "execution_count": 7,
   "metadata": {},
   "outputs": [],
   "source": [
    "import time"
   ]
  },
  {
   "cell_type": "code",
   "execution_count": 8,
   "metadata": {},
   "outputs": [
    {
     "data": {
      "text/plain": [
       "1601247762.469506"
      ]
     },
     "execution_count": 8,
     "metadata": {},
     "output_type": "execute_result"
    }
   ],
   "source": [
    "time.time()"
   ]
  },
  {
   "cell_type": "code",
   "execution_count": 9,
   "metadata": {},
   "outputs": [
    {
     "name": "stdout",
     "output_type": "stream",
     "text": [
      "Waiting a bit seconds\n",
      "Duration: 5.01 seconds\n"
     ]
    }
   ],
   "source": [
    "toc = time.time()\n",
    "\n",
    "print(\"Waiting a bit seconds\")\n",
    "time.sleep(5)\n",
    "\n",
    "tic = time.time()\n",
    "\n",
    "duration = round(tic - toc,2)\n",
    "\n",
    "print(f\"Duration: {duration} seconds\")"
   ]
  },
  {
   "cell_type": "markdown",
   "metadata": {},
   "source": [
    "To quickly check which objects or function we can access, you can call `dir()` on the object you imported. This will also show some attributes which are automatically included when loading a foreign script"
   ]
  },
  {
   "cell_type": "code",
   "execution_count": 10,
   "metadata": {
    "scrolled": true
   },
   "outputs": [
    {
     "data": {
      "text/plain": [
       "['PI',\n",
       " '__builtins__',\n",
       " '__cached__',\n",
       " '__doc__',\n",
       " '__file__',\n",
       " '__loader__',\n",
       " '__name__',\n",
       " '__package__',\n",
       " '__spec__',\n",
       " 'reverse_integer']"
      ]
     },
     "execution_count": 10,
     "metadata": {},
     "output_type": "execute_result"
    }
   ],
   "source": [
    "dir(mfc)"
   ]
  },
  {
   "cell_type": "markdown",
   "metadata": {},
   "source": [
    "The `__main__` attribute is an automatically built in attribute that also has a function in script where the functions and objects are defined"
   ]
  },
  {
   "cell_type": "code",
   "execution_count": 11,
   "metadata": {},
   "outputs": [
    {
     "data": {
      "text/plain": [
       "'my_function_collection'"
      ]
     },
     "execution_count": 11,
     "metadata": {},
     "output_type": "execute_result"
    }
   ],
   "source": [
    "mfc.__name__"
   ]
  },
  {
   "cell_type": "code",
   "execution_count": 12,
   "metadata": {},
   "outputs": [
    {
     "name": "stdout",
     "output_type": "stream",
     "text": [
      "Result is  412947295487\n"
     ]
    }
   ],
   "source": [
    "import my_function_collection_bad_example as mfc_bad"
   ]
  },
  {
   "cell_type": "markdown",
   "metadata": {},
   "source": [
    "### Datetime"
   ]
  },
  {
   "cell_type": "code",
   "execution_count": 13,
   "metadata": {},
   "outputs": [],
   "source": [
    "from datetime import datetime as dt"
   ]
  },
  {
   "cell_type": "code",
   "execution_count": 14,
   "metadata": {},
   "outputs": [
    {
     "data": {
      "text/plain": [
       "['__add__',\n",
       " '__class__',\n",
       " '__delattr__',\n",
       " '__dir__',\n",
       " '__doc__',\n",
       " '__eq__',\n",
       " '__format__',\n",
       " '__ge__',\n",
       " '__getattribute__',\n",
       " '__gt__',\n",
       " '__hash__',\n",
       " '__init__',\n",
       " '__init_subclass__',\n",
       " '__le__',\n",
       " '__lt__',\n",
       " '__ne__',\n",
       " '__new__',\n",
       " '__radd__',\n",
       " '__reduce__',\n",
       " '__reduce_ex__',\n",
       " '__repr__',\n",
       " '__rsub__',\n",
       " '__setattr__',\n",
       " '__sizeof__',\n",
       " '__str__',\n",
       " '__sub__',\n",
       " '__subclasshook__',\n",
       " 'astimezone',\n",
       " 'combine',\n",
       " 'ctime',\n",
       " 'date',\n",
       " 'day',\n",
       " 'dst',\n",
       " 'fold',\n",
       " 'fromisocalendar',\n",
       " 'fromisoformat',\n",
       " 'fromordinal',\n",
       " 'fromtimestamp',\n",
       " 'hour',\n",
       " 'isocalendar',\n",
       " 'isoformat',\n",
       " 'isoweekday',\n",
       " 'max',\n",
       " 'microsecond',\n",
       " 'min',\n",
       " 'minute',\n",
       " 'month',\n",
       " 'now',\n",
       " 'replace',\n",
       " 'resolution',\n",
       " 'second',\n",
       " 'strftime',\n",
       " 'strptime',\n",
       " 'time',\n",
       " 'timestamp',\n",
       " 'timetuple',\n",
       " 'timetz',\n",
       " 'today',\n",
       " 'toordinal',\n",
       " 'tzinfo',\n",
       " 'tzname',\n",
       " 'utcfromtimestamp',\n",
       " 'utcnow',\n",
       " 'utcoffset',\n",
       " 'utctimetuple',\n",
       " 'weekday',\n",
       " 'year']"
      ]
     },
     "execution_count": 14,
     "metadata": {},
     "output_type": "execute_result"
    }
   ],
   "source": [
    "dir(dt)"
   ]
  },
  {
   "cell_type": "code",
   "execution_count": 17,
   "metadata": {},
   "outputs": [
    {
     "data": {
      "text/plain": [
       "datetime.datetime(2020, 9, 28, 1, 2, 55, 317342)"
      ]
     },
     "execution_count": 17,
     "metadata": {},
     "output_type": "execute_result"
    }
   ],
   "source": [
    "current_datetime = dt.now()\n",
    "current_datetime"
   ]
  },
  {
   "cell_type": "markdown",
   "metadata": {},
   "source": [
    "Packages are also just objects in Python. They don't have any special status. In fact, thats also why we can for example call the `dir()` function on it, just like on any other object.\n",
    "\n",
    "We will cover more on this at a later point, but for now you just need to know that you can also define your own objects (also called classes) in Python.\n",
    "\n",
    "The `dir()`function is also useful to understand what we can do with objects in Python that are special type of objects defined by a package for example. Lets for example call the dir() function on a \"normal\" string\n",
    "\n"
   ]
  },
  {
   "cell_type": "code",
   "execution_count": 18,
   "metadata": {},
   "outputs": [
    {
     "data": {
      "text/plain": [
       "['__add__',\n",
       " '__class__',\n",
       " '__contains__',\n",
       " '__delattr__',\n",
       " '__dir__',\n",
       " '__doc__',\n",
       " '__eq__',\n",
       " '__format__',\n",
       " '__ge__',\n",
       " '__getattribute__',\n",
       " '__getitem__',\n",
       " '__getnewargs__',\n",
       " '__gt__',\n",
       " '__hash__',\n",
       " '__init__',\n",
       " '__init_subclass__',\n",
       " '__iter__',\n",
       " '__le__',\n",
       " '__len__',\n",
       " '__lt__',\n",
       " '__mod__',\n",
       " '__mul__',\n",
       " '__ne__',\n",
       " '__new__',\n",
       " '__reduce__',\n",
       " '__reduce_ex__',\n",
       " '__repr__',\n",
       " '__rmod__',\n",
       " '__rmul__',\n",
       " '__setattr__',\n",
       " '__sizeof__',\n",
       " '__str__',\n",
       " '__subclasshook__',\n",
       " 'capitalize',\n",
       " 'casefold',\n",
       " 'center',\n",
       " 'count',\n",
       " 'encode',\n",
       " 'endswith',\n",
       " 'expandtabs',\n",
       " 'find',\n",
       " 'format',\n",
       " 'format_map',\n",
       " 'index',\n",
       " 'isalnum',\n",
       " 'isalpha',\n",
       " 'isascii',\n",
       " 'isdecimal',\n",
       " 'isdigit',\n",
       " 'isidentifier',\n",
       " 'islower',\n",
       " 'isnumeric',\n",
       " 'isprintable',\n",
       " 'isspace',\n",
       " 'istitle',\n",
       " 'isupper',\n",
       " 'join',\n",
       " 'ljust',\n",
       " 'lower',\n",
       " 'lstrip',\n",
       " 'maketrans',\n",
       " 'partition',\n",
       " 'replace',\n",
       " 'rfind',\n",
       " 'rindex',\n",
       " 'rjust',\n",
       " 'rpartition',\n",
       " 'rsplit',\n",
       " 'rstrip',\n",
       " 'split',\n",
       " 'splitlines',\n",
       " 'startswith',\n",
       " 'strip',\n",
       " 'swapcase',\n",
       " 'title',\n",
       " 'translate',\n",
       " 'upper',\n",
       " 'zfill']"
      ]
     },
     "execution_count": 18,
     "metadata": {},
     "output_type": "execute_result"
    }
   ],
   "source": [
    "x = \"Hello\"\n",
    "dir(x)"
   ]
  },
  {
   "cell_type": "markdown",
   "metadata": {},
   "source": [
    "Jupyter can even help us find more information on a function, if it is documented. Just enter:\n",
    "\n",
    "`?object_type.function``"
   ]
  },
  {
   "cell_type": "code",
   "execution_count": 19,
   "metadata": {},
   "outputs": [],
   "source": [
    "?str.split"
   ]
  },
  {
   "cell_type": "code",
   "execution_count": 20,
   "metadata": {},
   "outputs": [],
   "source": [
    "?current_datetime"
   ]
  },
  {
   "cell_type": "code",
   "execution_count": 21,
   "metadata": {
    "scrolled": false
   },
   "outputs": [
    {
     "data": {
      "text/plain": [
       "['__add__',\n",
       " '__class__',\n",
       " '__delattr__',\n",
       " '__dir__',\n",
       " '__doc__',\n",
       " '__eq__',\n",
       " '__format__',\n",
       " '__ge__',\n",
       " '__getattribute__',\n",
       " '__gt__',\n",
       " '__hash__',\n",
       " '__init__',\n",
       " '__init_subclass__',\n",
       " '__le__',\n",
       " '__lt__',\n",
       " '__ne__',\n",
       " '__new__',\n",
       " '__radd__',\n",
       " '__reduce__',\n",
       " '__reduce_ex__',\n",
       " '__repr__',\n",
       " '__rsub__',\n",
       " '__setattr__',\n",
       " '__sizeof__',\n",
       " '__str__',\n",
       " '__sub__',\n",
       " '__subclasshook__',\n",
       " 'astimezone',\n",
       " 'combine',\n",
       " 'ctime',\n",
       " 'date',\n",
       " 'day',\n",
       " 'dst',\n",
       " 'fold',\n",
       " 'fromisocalendar',\n",
       " 'fromisoformat',\n",
       " 'fromordinal',\n",
       " 'fromtimestamp',\n",
       " 'hour',\n",
       " 'isocalendar',\n",
       " 'isoformat',\n",
       " 'isoweekday',\n",
       " 'max',\n",
       " 'microsecond',\n",
       " 'min',\n",
       " 'minute',\n",
       " 'month',\n",
       " 'now',\n",
       " 'replace',\n",
       " 'resolution',\n",
       " 'second',\n",
       " 'strftime',\n",
       " 'strptime',\n",
       " 'time',\n",
       " 'timestamp',\n",
       " 'timetuple',\n",
       " 'timetz',\n",
       " 'today',\n",
       " 'toordinal',\n",
       " 'tzinfo',\n",
       " 'tzname',\n",
       " 'utcfromtimestamp',\n",
       " 'utcnow',\n",
       " 'utcoffset',\n",
       " 'utctimetuple',\n",
       " 'weekday',\n",
       " 'year']"
      ]
     },
     "execution_count": 21,
     "metadata": {},
     "output_type": "execute_result"
    }
   ],
   "source": [
    "dir(current_datetime)"
   ]
  },
  {
   "cell_type": "code",
   "execution_count": 22,
   "metadata": {},
   "outputs": [],
   "source": [
    "?current_datetime.day"
   ]
  },
  {
   "cell_type": "markdown",
   "metadata": {},
   "source": [
    "But this isn't always that helpful"
   ]
  },
  {
   "cell_type": "code",
   "execution_count": 23,
   "metadata": {},
   "outputs": [],
   "source": [
    "?current_datetime.strptime"
   ]
  },
  {
   "cell_type": "markdown",
   "metadata": {},
   "source": [
    "## Online documentation\n",
    "The best place to look for help understanding a package is the online documentation. EVERY decent package has a very good documentation online. otherwise people would never be able to learn and use it.\n",
    "\n",
    "You can for example find the documentation for the datetime package [here](https://docs.python.org/3/library/datetime.html) or by just googling \"datetime documentation python\"\n",
    "\n",
    "Other examples of documentations:\n",
    "* [Flask](https://flask.palletsprojects.com/en/1.1.x/)\n",
    "* [Pandas](https://pandas.pydata.org/docs/#)\n",
    "* [Scikit Learn](https://scikit-learn.org/stable/) (used for machine learning)\n",
    "\n",
    "Most package documentations will also have a \"Quickstart\" or \"Getting started\" page like [here](https://flask.palletsprojects.com/en/1.1.x/quickstart/) with easy instructions for first steps using the package.\n",
    "\n",
    "### Mini Task #1\n",
    "Read through the online documentation for the `Math` module. Can you find and find the following:\n",
    "* The function that takes a float as an input and returns the number rounded *down* to the next integer\n",
    "* The mathematical number \"e\" and \"pi\n",
    "* What does the function \".isfinite()\" do? What will it return for the value '10/3' and why?\n",
    "* Which input parameters does the function `math.perm()` take?\n",
    "\n",
    "While going through these, think about how much time you might need to implement these functions yourself and how much time you could save by using these chunks of code that other people have written for you."
   ]
  },
  {
   "cell_type": "code",
   "execution_count": 24,
   "metadata": {},
   "outputs": [],
   "source": [
    "# Space for your code\n",
    "\n",
    "\n",
    "\n"
   ]
  },
  {
   "cell_type": "markdown",
   "metadata": {},
   "source": [
    "# Installing third-party packages\n",
    "Most interesting packages aren't built into Python itself, but can be installed from the internet. You have actually already done this when you set up python and installed the jupyter package.\n",
    "\n",
    "Python comes with 'pip' a so-called package manager which makes installing, managing and deleting packages very easy. You can install packages by opening your terminal and just typing:\n",
    "`pip install [package_name]`\n",
    "\n",
    "### Other useful commands:\n",
    "* `pip list` -> shows you all packages installed and the current version numbers\n",
    "* `pip uninstall [package_name]` -> uninstalls the package named\n",
    "* `pip install [package_name] --upgrade` -> Upgrades a package\n",
    "\n",
    "You can even run terminal code in your jupyter notebook or Hydrogen by prepending an exclamation mark (!) to the line you want to run:"
   ]
  },
  {
   "cell_type": "code",
   "execution_count": 25,
   "metadata": {},
   "outputs": [
    {
     "name": "stdout",
     "output_type": "stream",
     "text": [
      "Package             Version\r\n",
      "------------------- ---------\r\n",
      "-upyter             1.0.0\r\n",
      "appnope             0.1.0\r\n",
      "argon2-cffi         20.1.0\r\n",
      "async-generator     1.10\r\n",
      "attrs               20.2.0\r\n",
      "backcall            0.2.0\r\n",
      "bleach              3.1.5\r\n",
      "certifi             2020.6.20\r\n",
      "cffi                1.14.2\r\n",
      "chardet             3.0.4\r\n",
      "cycler              0.10.0\r\n",
      "decorator           4.4.2\r\n",
      "defusedxml          0.6.0\r\n",
      "entrypoints         0.3\r\n",
      "flake8              3.8.3\r\n",
      "idna                2.10\r\n",
      "ipykernel           5.3.4\r\n",
      "ipython             7.18.1\r\n",
      "ipython-genutils    0.2.0\r\n",
      "ipywidgets          7.5.1\r\n",
      "jedi                0.17.2\r\n",
      "Jinja2              2.11.2\r\n",
      "joblib              0.16.0\r\n",
      "jsonschema          3.2.0\r\n",
      "jupyter             1.0.0\r\n",
      "jupyter-client      6.1.7\r\n",
      "jupyter-console     6.2.0\r\n",
      "jupyter-core        4.6.3\r\n",
      "jupyterlab-pygments 0.1.1\r\n",
      "kiwisolver          1.2.0\r\n",
      "MarkupSafe          1.1.1\r\n",
      "matplotlib          3.3.2\r\n",
      "mccabe              0.6.1\r\n",
      "mistune             0.8.4\r\n",
      "nbclient            0.5.0\r\n",
      "nbconvert           6.0.4\r\n",
      "nbformat            5.0.7\r\n",
      "nest-asyncio        1.4.0\r\n",
      "notebook            6.1.4\r\n",
      "numpy               1.19.2\r\n",
      "packaging           20.4\r\n",
      "pandas              1.1.2\r\n",
      "pandocfilters       1.4.2\r\n",
      "parso               0.7.1\r\n",
      "pexpect             4.8.0\r\n",
      "pickleshare         0.7.5\r\n",
      "Pillow              7.2.0\r\n",
      "pip                 20.2.3\r\n",
      "prometheus-client   0.8.0\r\n",
      "prompt-toolkit      3.0.7\r\n",
      "ptyprocess          0.6.0\r\n",
      "pycodestyle         2.6.0\r\n",
      "pycparser           2.20\r\n",
      "pyflakes            2.2.0\r\n",
      "Pygments            2.6.1\r\n",
      "pyparsing           2.4.7\r\n",
      "pyrsistent          0.16.0\r\n",
      "python-dateutil     2.8.1\r\n",
      "pytz                2020.1\r\n",
      "pyzmq               19.0.2\r\n",
      "qtconsole           4.7.7\r\n",
      "QtPy                1.9.0\r\n",
      "requests            2.24.0\r\n",
      "scikit-learn        0.23.2\r\n",
      "scipy               1.5.2\r\n",
      "seaborn             0.11.0\r\n",
      "Send2Trash          1.5.0\r\n",
      "setuptools          49.2.0\r\n",
      "six                 1.15.0\r\n",
      "sklearn             0.0\r\n",
      "terminado           0.8.3\r\n",
      "testpath            0.4.4\r\n",
      "threadpoolctl       2.1.0\r\n",
      "tornado             6.0.4\r\n",
      "traitlets           5.0.4\r\n",
      "urllib3             1.25.10\r\n",
      "wcwidth             0.2.5\r\n",
      "webencodings        0.5.1\r\n",
      "wheel               0.34.2\r\n",
      "widgetsnbextension  3.5.1\r\n"
     ]
    }
   ],
   "source": [
    "!pip list"
   ]
  },
  {
   "cell_type": "markdown",
   "metadata": {},
   "source": [
    "### Mini task #2\n",
    "Install the `pandas` and `numpy` package using the command line"
   ]
  },
  {
   "cell_type": "code",
   "execution_count": null,
   "metadata": {},
   "outputs": [],
   "source": [
    "# your code"
   ]
  }
 ],
 "metadata": {
  "kernelspec": {
   "display_name": "Python 3",
   "language": "python",
   "name": "python3"
  },
  "language_info": {
   "codemirror_mode": {
    "name": "ipython",
    "version": 3
   },
   "file_extension": ".py",
   "mimetype": "text/x-python",
   "name": "python",
   "nbconvert_exporter": "python",
   "pygments_lexer": "ipython3",
   "version": "3.8.3"
  }
 },
 "nbformat": 4,
 "nbformat_minor": 4
}
