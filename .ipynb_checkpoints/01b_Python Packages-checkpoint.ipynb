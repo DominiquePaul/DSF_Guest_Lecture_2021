{
 "cells": [
  {
   "cell_type": "markdown",
   "metadata": {},
   "source": [
    "# Functions and re-using code in Python\n",
    "Last lesson we learnt the basic building blocks of Python. As we said back then, they represent most of the code you need to write complicated applications in Python.\n",
    "\n",
    "But as you also saw, the code is quite low level and we have to manually define many parts if we want to get to a programm with a higher level of sophistication (Think about how much code we had to write for our simple library application). We learnt how to use functions and how they can save us from manually writing a lot of code multiple times.\n",
    "\n",
    "Functions can be very useful, especially for re-using code that is not only useful for one application, but for multiple types of applications. Think about the integer reverse function or the longest substring function. Those could be useful components in many different kinds of programs (e.g. password security).\n",
    "\n",
    "What if we could save code in a way that allows us to use it in multiple projects, without having to copy paste it into the new project every time?\n",
    "\n",
    "Surprise! The makers of Pyton luckily thought about this.\n",
    "\n",
    "## Importing code from other python files\n",
    "Using the structure `from [file_name] import [function]` we can load functions from one Python script into another."
   ]
  },
  {
   "cell_type": "code",
   "execution_count": 1,
   "metadata": {},
   "outputs": [
    {
     "name": "stdout",
     "output_type": "stream",
     "text": [
      "hello\n"
     ]
    }
   ],
   "source": [
    "from my_function_collection import reverse_integer"
   ]
  },
  {
   "cell_type": "code",
   "execution_count": null,
   "metadata": {
    "scrolled": true
   },
   "outputs": [],
   "source": [
    "reverse_integer(123456789)"
   ]
  },
  {
   "cell_type": "markdown",
   "metadata": {},
   "source": [
    "We can also load variables or other objects"
   ]
  },
  {
   "cell_type": "code",
   "execution_count": 2,
   "metadata": {},
   "outputs": [],
   "source": [
    "from my_function_collection import PI"
   ]
  },
  {
   "cell_type": "code",
   "execution_count": 3,
   "metadata": {},
   "outputs": [
    {
     "data": {
      "text/plain": [
       "3.141"
      ]
     },
     "execution_count": 3,
     "metadata": {},
     "output_type": "execute_result"
    }
   ],
   "source": [
    "PI"
   ]
  },
  {
   "cell_type": "markdown",
   "metadata": {},
   "source": [
    "We can also import entire files and give them shortcut names. This is useful if we are using a lot of objects and functions, but don't want to import all manually. "
   ]
  },
  {
   "cell_type": "code",
   "execution_count": null,
   "metadata": {},
   "outputs": [],
   "source": [
    "import my_function_collection as mfc"
   ]
  },
  {
   "cell_type": "code",
   "execution_count": null,
   "metadata": {
    "scrolled": true
   },
   "outputs": [],
   "source": [
    "mfc.reverse_integer(123456789)"
   ]
  },
  {
   "cell_type": "markdown",
   "metadata": {},
   "source": [
    "# Packages\n",
    "Python takes this step even further. Instead of only re-using code that we wrote our have stored locally, we can also use code written by other people in our projects. These are so-called libraries or packages, that we can import similarly as we did with our own scripts. Generally you can differentiate between packages built into Python and packages written by other people or organisations that were then shared on the internet.\n",
    "\n",
    "Some of you might have already used packages for the first assignment.\n",
    "\n",
    "## Built in packages\n",
    "Built in packages are shipped with your native python installation. They are available to you the second you have python installed on your computer. Interesting examples to try out are: \n",
    "* time\n",
    "* datetime\n",
    "* sys \n",
    "* math \n",
    "\n",
    "\n",
    "### Time"
   ]
  },
  {
   "cell_type": "code",
   "execution_count": 7,
   "metadata": {},
   "outputs": [],
   "source": [
    "import time"
   ]
  },
  {
   "cell_type": "code",
   "execution_count": 9,
   "metadata": {},
   "outputs": [
    {
     "data": {
      "text/plain": [
       "1636632202.235578"
      ]
     },
     "execution_count": 9,
     "metadata": {},
     "output_type": "execute_result"
    }
   ],
   "source": [
    "time.time()"
   ]
  },
  {
   "cell_type": "code",
   "execution_count": 11,
   "metadata": {},
   "outputs": [
    {
     "name": "stdout",
     "output_type": "stream",
     "text": [
      "Waiting a bit seconds\n",
      "Duration: 5.00295 seconds\n"
     ]
    }
   ],
   "source": [
    "toc = time.time()\n",
    "\n",
    "print(\"Waiting a bit seconds\")\n",
    "time.sleep(5)\n",
    "\n",
    "tic = time.time()\n",
    "\n",
    "duration = round(tic - toc, 6)\n",
    "\n",
    "print(f\"Duration: {duration} seconds\")"
   ]
  },
  {
   "cell_type": "markdown",
   "metadata": {},
   "source": [
    "To quickly check which objects or function we can access, you can call `dir()` on the object you imported. This will also show some attributes which are automatically included when loading a foreign script"
   ]
  },
  {
   "cell_type": "code",
   "execution_count": 12,
   "metadata": {
    "scrolled": true
   },
   "outputs": [
    {
     "data": {
      "text/plain": [
       "['_STRUCT_TM_ITEMS',\n",
       " '__doc__',\n",
       " '__loader__',\n",
       " '__name__',\n",
       " '__package__',\n",
       " '__spec__',\n",
       " 'altzone',\n",
       " 'asctime',\n",
       " 'ctime',\n",
       " 'daylight',\n",
       " 'get_clock_info',\n",
       " 'gmtime',\n",
       " 'localtime',\n",
       " 'mktime',\n",
       " 'monotonic',\n",
       " 'monotonic_ns',\n",
       " 'perf_counter',\n",
       " 'perf_counter_ns',\n",
       " 'process_time',\n",
       " 'process_time_ns',\n",
       " 'sleep',\n",
       " 'strftime',\n",
       " 'strptime',\n",
       " 'struct_time',\n",
       " 'time',\n",
       " 'time_ns',\n",
       " 'timezone',\n",
       " 'tzname',\n",
       " 'tzset']"
      ]
     },
     "execution_count": 12,
     "metadata": {},
     "output_type": "execute_result"
    }
   ],
   "source": [
    "dir(time)"
   ]
  },
  {
   "cell_type": "markdown",
   "metadata": {},
   "source": [
    "The `__main__` attribute is an automatically built in attribute that also has a function in script where the functions and objects are defined"
   ]
  },
  {
   "cell_type": "code",
   "execution_count": null,
   "metadata": {},
   "outputs": [],
   "source": [
    "mfc.__name__"
   ]
  },
  {
   "cell_type": "code",
   "execution_count": null,
   "metadata": {},
   "outputs": [],
   "source": [
    "import my_function_collection_bad_example as mfc_bad"
   ]
  },
  {
   "cell_type": "markdown",
   "metadata": {},
   "source": [
    "### Datetime"
   ]
  },
  {
   "cell_type": "code",
   "execution_count": 13,
   "metadata": {},
   "outputs": [],
   "source": [
    "from datetime import datetime as dt"
   ]
  },
  {
   "cell_type": "code",
   "execution_count": 14,
   "metadata": {},
   "outputs": [
    {
     "data": {
      "text/plain": [
       "['__add__',\n",
       " '__class__',\n",
       " '__delattr__',\n",
       " '__dir__',\n",
       " '__doc__',\n",
       " '__eq__',\n",
       " '__format__',\n",
       " '__ge__',\n",
       " '__getattribute__',\n",
       " '__gt__',\n",
       " '__hash__',\n",
       " '__init__',\n",
       " '__init_subclass__',\n",
       " '__le__',\n",
       " '__lt__',\n",
       " '__ne__',\n",
       " '__new__',\n",
       " '__radd__',\n",
       " '__reduce__',\n",
       " '__reduce_ex__',\n",
       " '__repr__',\n",
       " '__rsub__',\n",
       " '__setattr__',\n",
       " '__sizeof__',\n",
       " '__str__',\n",
       " '__sub__',\n",
       " '__subclasshook__',\n",
       " 'astimezone',\n",
       " 'combine',\n",
       " 'ctime',\n",
       " 'date',\n",
       " 'day',\n",
       " 'dst',\n",
       " 'fold',\n",
       " 'fromisocalendar',\n",
       " 'fromisoformat',\n",
       " 'fromordinal',\n",
       " 'fromtimestamp',\n",
       " 'hour',\n",
       " 'isocalendar',\n",
       " 'isoformat',\n",
       " 'isoweekday',\n",
       " 'max',\n",
       " 'microsecond',\n",
       " 'min',\n",
       " 'minute',\n",
       " 'month',\n",
       " 'now',\n",
       " 'replace',\n",
       " 'resolution',\n",
       " 'second',\n",
       " 'strftime',\n",
       " 'strptime',\n",
       " 'time',\n",
       " 'timestamp',\n",
       " 'timetuple',\n",
       " 'timetz',\n",
       " 'today',\n",
       " 'toordinal',\n",
       " 'tzinfo',\n",
       " 'tzname',\n",
       " 'utcfromtimestamp',\n",
       " 'utcnow',\n",
       " 'utcoffset',\n",
       " 'utctimetuple',\n",
       " 'weekday',\n",
       " 'year']"
      ]
     },
     "execution_count": 14,
     "metadata": {},
     "output_type": "execute_result"
    }
   ],
   "source": [
    "dir(dt)"
   ]
  },
  {
   "cell_type": "code",
   "execution_count": 15,
   "metadata": {},
   "outputs": [
    {
     "data": {
      "text/plain": [
       "datetime.datetime(2021, 11, 11, 13, 5, 14, 127691)"
      ]
     },
     "execution_count": 15,
     "metadata": {},
     "output_type": "execute_result"
    }
   ],
   "source": [
    "current_datetime = dt.now()\n",
    "current_datetime"
   ]
  },
  {
   "cell_type": "markdown",
   "metadata": {},
   "source": [
    "Packages are also just objects in Python. They don't have any special status. In fact, thats also why we can for example call the `dir()` function on it, just like on any other object.\n",
    "\n",
    "We will cover more on this at a later point, but for now you just need to know that you can also define your own objects (also called classes) in Python.\n",
    "\n",
    "The `dir()`function is also useful to understand what we can do with objects in Python that are special type of objects defined by a package for example. Lets for example call the dir() function on a \"normal\" string\n",
    "\n"
   ]
  },
  {
   "cell_type": "code",
   "execution_count": 16,
   "metadata": {},
   "outputs": [
    {
     "data": {
      "text/plain": [
       "['__add__',\n",
       " '__class__',\n",
       " '__contains__',\n",
       " '__delattr__',\n",
       " '__dir__',\n",
       " '__doc__',\n",
       " '__eq__',\n",
       " '__format__',\n",
       " '__ge__',\n",
       " '__getattribute__',\n",
       " '__getitem__',\n",
       " '__getnewargs__',\n",
       " '__gt__',\n",
       " '__hash__',\n",
       " '__init__',\n",
       " '__init_subclass__',\n",
       " '__iter__',\n",
       " '__le__',\n",
       " '__len__',\n",
       " '__lt__',\n",
       " '__mod__',\n",
       " '__mul__',\n",
       " '__ne__',\n",
       " '__new__',\n",
       " '__reduce__',\n",
       " '__reduce_ex__',\n",
       " '__repr__',\n",
       " '__rmod__',\n",
       " '__rmul__',\n",
       " '__setattr__',\n",
       " '__sizeof__',\n",
       " '__str__',\n",
       " '__subclasshook__',\n",
       " 'capitalize',\n",
       " 'casefold',\n",
       " 'center',\n",
       " 'count',\n",
       " 'encode',\n",
       " 'endswith',\n",
       " 'expandtabs',\n",
       " 'find',\n",
       " 'format',\n",
       " 'format_map',\n",
       " 'index',\n",
       " 'isalnum',\n",
       " 'isalpha',\n",
       " 'isascii',\n",
       " 'isdecimal',\n",
       " 'isdigit',\n",
       " 'isidentifier',\n",
       " 'islower',\n",
       " 'isnumeric',\n",
       " 'isprintable',\n",
       " 'isspace',\n",
       " 'istitle',\n",
       " 'isupper',\n",
       " 'join',\n",
       " 'ljust',\n",
       " 'lower',\n",
       " 'lstrip',\n",
       " 'maketrans',\n",
       " 'partition',\n",
       " 'replace',\n",
       " 'rfind',\n",
       " 'rindex',\n",
       " 'rjust',\n",
       " 'rpartition',\n",
       " 'rsplit',\n",
       " 'rstrip',\n",
       " 'split',\n",
       " 'splitlines',\n",
       " 'startswith',\n",
       " 'strip',\n",
       " 'swapcase',\n",
       " 'title',\n",
       " 'translate',\n",
       " 'upper',\n",
       " 'zfill']"
      ]
     },
     "execution_count": 16,
     "metadata": {},
     "output_type": "execute_result"
    }
   ],
   "source": [
    "x = \"Hello\"\n",
    "dir(x)"
   ]
  },
  {
   "cell_type": "markdown",
   "metadata": {},
   "source": [
    "Jupyter can even help us find more information on a function, if it is documented. Just enter:\n",
    "\n",
    "`?object_type.function``"
   ]
  },
  {
   "cell_type": "code",
   "execution_count": 17,
   "metadata": {},
   "outputs": [],
   "source": [
    "#type(\"this is a text string\")\n",
    "?str.split"
   ]
  },
  {
   "cell_type": "code",
   "execution_count": null,
   "metadata": {},
   "outputs": [],
   "source": [
    "?current_datetime"
   ]
  },
  {
   "cell_type": "code",
   "execution_count": null,
   "metadata": {
    "scrolled": false
   },
   "outputs": [],
   "source": [
    "dir(current_datetime)"
   ]
  },
  {
   "cell_type": "code",
   "execution_count": null,
   "metadata": {},
   "outputs": [],
   "source": [
    "?current_datetime.day"
   ]
  },
  {
   "cell_type": "markdown",
   "metadata": {},
   "source": [
    "But this isn't always that helpful"
   ]
  },
  {
   "cell_type": "code",
   "execution_count": null,
   "metadata": {},
   "outputs": [],
   "source": [
    "?current_datetime.strptime"
   ]
  },
  {
   "cell_type": "markdown",
   "metadata": {},
   "source": [
    "## Online documentation\n",
    "The best place to look for help understanding a package is the online documentation. EVERY decent package has a very good documentation online. otherwise people would never be able to learn and use it.\n",
    "\n",
    "You can for example find the documentation for the datetime package [here](https://docs.python.org/3/library/datetime.html) or by just googling \"datetime documentation python\"\n",
    "\n",
    "Other examples of documentations:\n",
    "* [Flask](https://flask.palletsprojects.com/en/1.1.x/)\n",
    "* [Pandas](https://pandas.pydata.org/docs/#)\n",
    "* [Scikit Learn](https://scikit-learn.org/stable/) (used for machine learning)\n",
    "\n",
    "Most package documentations will also have a \"Quickstart\" or \"Getting started\" page like [here](https://flask.palletsprojects.com/en/1.1.x/quickstart/) with easy instructions for first steps using the package.\n",
    "\n",
    "### Mini Task #1\n",
    "Read through the online documentation for the `Math` module. Can you find and find the following:\n",
    "* The function that takes a float as an input and returns the number rounded *down* to the next integer\n",
    "* The mathematical number \"e\" and \"pi\n",
    "* What does the function \".isfinite()\" do? What will it return for the value '10/3' and why?\n",
    "* Which input parameters does the function `math.perm()` take?\n",
    "\n",
    "While going through these, think about how much time you might need to implement these functions yourself and how much time you could save by using these chunks of code that other people have written for you."
   ]
  },
  {
   "cell_type": "code",
   "execution_count": null,
   "metadata": {},
   "outputs": [],
   "source": [
    "# Space for your code\n",
    "\n",
    "\n",
    "\n"
   ]
  },
  {
   "cell_type": "markdown",
   "metadata": {},
   "source": [
    "# Installing third-party packages\n",
    "Most interesting packages aren't built into Python itself, but can be installed from the internet. You have actually already done this when you set up python and installed the jupyter package.\n",
    "\n",
    "Python comes with 'pip' a so-called package manager which makes installing, managing and deleting packages very easy. You can install packages by opening your terminal and just typing:\n",
    "`pip install [package_name]`\n",
    "\n",
    "### Other useful commands:\n",
    "* `pip list` -> shows you all packages installed and the current version numbers\n",
    "* `pip uninstall [package_name]` -> uninstalls the package named\n",
    "* `pip install [package_name] --upgrade` -> Upgrades a package\n",
    "\n",
    "You can even run terminal code in your jupyter notebook or Hydrogen by prepending an exclamation mark (!) to the line you want to run:"
   ]
  },
  {
   "cell_type": "code",
   "execution_count": 18,
   "metadata": {
    "scrolled": true
   },
   "outputs": [
    {
     "name": "stdout",
     "output_type": "stream",
     "text": [
      "Requirement already satisfied: pandas in /opt/anaconda3/lib/python3.8/site-packages (1.0.5)\r\n",
      "Requirement already satisfied: python-dateutil>=2.6.1 in /opt/anaconda3/lib/python3.8/site-packages (from pandas) (2.8.1)\r\n",
      "Requirement already satisfied: pytz>=2017.2 in /opt/anaconda3/lib/python3.8/site-packages (from pandas) (2020.1)\r\n",
      "Requirement already satisfied: numpy>=1.13.3 in /opt/anaconda3/lib/python3.8/site-packages (from pandas) (1.19.5)\r\n",
      "Requirement already satisfied: six>=1.5 in /opt/anaconda3/lib/python3.8/site-packages (from python-dateutil>=2.6.1->pandas) (1.15.0)\r\n"
     ]
    }
   ],
   "source": [
    "!pip install pandas"
   ]
  },
  {
   "cell_type": "code",
   "execution_count": 19,
   "metadata": {},
   "outputs": [
    {
     "name": "stdout",
     "output_type": "stream",
     "text": [
      "Package                            Version\r\n",
      "---------------------------------- -------------------\r\n",
      "absl-py                            0.12.0\r\n",
      "alabaster                          0.7.12\r\n",
      "anaconda-client                    1.7.2\r\n",
      "anaconda-navigator                 1.9.12\r\n",
      "anaconda-project                   0.8.3\r\n",
      "appdirs                            1.4.4\r\n",
      "applaunchservices                  0.2.1\r\n",
      "appnope                            0.1.0\r\n",
      "appscript                          1.1.1\r\n",
      "argh                               0.26.2\r\n",
      "asn1crypto                         1.3.0\r\n",
      "astroid                            2.4.2\r\n",
      "astropy                            4.0.1.post1\r\n",
      "astunparse                         1.6.3\r\n",
      "atomicwrites                       1.4.0\r\n",
      "attrs                              19.3.0\r\n",
      "autopep8                           1.5.3\r\n",
      "Babel                              2.8.0\r\n",
      "backcall                           0.2.0\r\n",
      "backports.functools-lru-cache      1.6.1\r\n",
      "backports.shutil-get-terminal-size 1.0.0\r\n",
      "backports.tempfile                 1.0\r\n",
      "backports.weakref                  1.0.post1\r\n",
      "beautifulsoup4                     4.9.1\r\n",
      "bitarray                           1.4.0\r\n",
      "bkcharts                           0.2\r\n",
      "black                              19.10b0\r\n",
      "bleach                             3.1.5\r\n",
      "bokeh                              2.1.1\r\n",
      "boto                               2.49.0\r\n",
      "Bottleneck                         1.3.2\r\n",
      "brotlipy                           0.7.0\r\n",
      "cachetools                         4.2.1\r\n",
      "certifi                            2020.6.20\r\n",
      "cffi                               1.14.0\r\n",
      "chardet                            3.0.4\r\n",
      "click                              7.1.2\r\n",
      "cloudpickle                        1.5.0\r\n",
      "clyent                             1.2.2\r\n",
      "colorama                           0.4.3\r\n",
      "conda                              4.10.3\r\n",
      "conda-build                        3.18.11\r\n",
      "conda-package-handling             1.7.2\r\n",
      "conda-verify                       3.4.2\r\n",
      "contextlib2                        0.6.0.post1\r\n",
      "cryptography                       2.9.2\r\n",
      "cycler                             0.10.0\r\n",
      "Cython                             0.29.21\r\n",
      "cytoolz                            0.10.1\r\n",
      "dask                               2.20.0\r\n",
      "decorator                          4.4.2\r\n",
      "defusedxml                         0.6.0\r\n",
      "diff-match-patch                   20200713\r\n",
      "distributed                        2.20.0\r\n",
      "docutils                           0.16\r\n",
      "entrypoints                        0.3\r\n",
      "et-xmlfile                         1.0.1\r\n",
      "fastcache                          1.1.0\r\n",
      "filelock                           3.0.12\r\n",
      "flake8                             3.8.3\r\n",
      "Flask                              1.1.2\r\n",
      "Flask-WTF                          1.0.0\r\n",
      "flatbuffers                        1.12\r\n",
      "fsspec                             0.7.4\r\n",
      "future                             0.18.2\r\n",
      "gast                               0.3.3\r\n",
      "george                             0.4.0\r\n",
      "gevent                             20.6.2\r\n",
      "glob2                              0.7\r\n",
      "gmpy2                              2.0.8\r\n",
      "google-api-core                    2.2.2\r\n",
      "google-auth                        1.28.0\r\n",
      "google-auth-oauthlib               0.4.3\r\n",
      "google-cloud-automl                2.5.2\r\n",
      "google-cloud-speech                2.11.1\r\n",
      "google-pasta                       0.2.0\r\n",
      "googleapis-common-protos           1.53.0\r\n",
      "gpytorch                           1.5.1\r\n",
      "greenlet                           0.4.16\r\n",
      "grpcio                             1.41.1\r\n",
      "grpcio-status                      1.41.1\r\n",
      "h5py                               2.10.0\r\n",
      "HeapDict                           1.0.1\r\n",
      "html5lib                           1.1\r\n",
      "idna                               2.10\r\n",
      "imageio                            2.9.0\r\n",
      "imagesize                          1.2.0\r\n",
      "imgurpython                        1.1.7\r\n",
      "importlib-metadata                 1.7.0\r\n",
      "install                            1.3.4\r\n",
      "intervaltree                       3.0.2\r\n",
      "ipykernel                          5.3.2\r\n",
      "ipython                            7.16.1\r\n",
      "ipython-genutils                   0.2.0\r\n",
      "ipywidgets                         7.5.1\r\n",
      "isort                              4.3.21\r\n",
      "itsdangerous                       1.1.0\r\n",
      "jdcal                              1.4.1\r\n",
      "jedi                               0.17.1\r\n",
      "Jinja2                             2.11.2\r\n",
      "joblib                             0.16.0\r\n",
      "json5                              0.9.5\r\n",
      "jsonschema                         3.2.0\r\n",
      "jupyter                            1.0.0\r\n",
      "jupyter-client                     6.1.6\r\n",
      "jupyter-console                    6.1.0\r\n",
      "jupyter-core                       4.6.3\r\n",
      "jupyterlab                         2.1.5\r\n",
      "jupyterlab-server                  1.2.0\r\n",
      "Keras                              2.4.3\r\n",
      "Keras-Preprocessing                1.1.2\r\n",
      "keyring                            21.2.1\r\n",
      "kiwisolver                         1.2.0\r\n",
      "lazy-object-proxy                  1.4.3\r\n",
      "libarchive-c                       2.9\r\n",
      "libcst                             0.3.21\r\n",
      "llvmlite                           0.33.0+1.g022ab0f\r\n",
      "locket                             0.2.0\r\n",
      "lxml                               4.5.2\r\n",
      "Markdown                           3.3.4\r\n",
      "MarkupSafe                         1.1.1\r\n",
      "matplotlib                         3.2.2\r\n",
      "mccabe                             0.6.1\r\n",
      "mistune                            0.8.4\r\n",
      "mkl-fft                            1.1.0\r\n",
      "mkl-random                         1.1.1\r\n",
      "mkl-service                        2.3.0\r\n",
      "mock                               4.0.2\r\n",
      "more-itertools                     8.4.0\r\n",
      "mpmath                             1.1.0\r\n",
      "msgpack                            1.0.0\r\n",
      "multipledispatch                   0.6.0\r\n",
      "mypy-extensions                    0.4.3\r\n",
      "navigator-updater                  0.2.1\r\n",
      "nbconvert                          5.6.1\r\n",
      "nbformat                           5.0.7\r\n",
      "networkx                           2.4\r\n",
      "nltk                               3.5\r\n",
      "nose                               1.3.7\r\n",
      "notebook                           6.0.3\r\n",
      "numba                              0.50.1\r\n",
      "numexpr                            2.7.1\r\n",
      "numpy                              1.19.5\r\n",
      "numpydoc                           1.1.0\r\n",
      "oauthlib                           3.1.0\r\n",
      "olefile                            0.46\r\n",
      "opencv-python                      4.5.2.52\r\n",
      "openpyxl                           3.0.4\r\n",
      "opt-einsum                         3.3.0\r\n",
      "packaging                          20.4\r\n",
      "pandas                             1.0.5\r\n",
      "pandocfilters                      1.4.2\r\n",
      "parso                              0.7.0\r\n",
      "partd                              1.1.0\r\n",
      "path                               13.1.0\r\n",
      "pathlib2                           2.3.5\r\n",
      "pathspec                           0.7.0\r\n",
      "pathtools                          0.1.2\r\n",
      "patsy                              0.5.1\r\n",
      "pep8                               1.7.1\r\n",
      "pexpect                            4.8.0\r\n",
      "pickleshare                        0.7.5\r\n",
      "Pillow                             7.2.0\r\n",
      "pip                                20.1.1\r\n",
      "pkginfo                            1.5.0.1\r\n",
      "plotly                             5.3.1\r\n",
      "pluggy                             0.13.1\r\n",
      "ply                                3.11\r\n",
      "prometheus-client                  0.8.0\r\n",
      "prompt-toolkit                     3.0.5\r\n",
      "proto-plus                         1.19.8\r\n",
      "protobuf                           3.19.1\r\n",
      "psutil                             5.7.0\r\n",
      "ptyprocess                         0.6.0\r\n",
      "py                                 1.9.0\r\n",
      "pyasn1                             0.4.8\r\n",
      "pyasn1-modules                     0.2.8\r\n",
      "pycodestyle                        2.6.0\r\n",
      "pycosat                            0.6.3\r\n",
      "pycparser                          2.20\r\n",
      "pycurl                             7.43.0.5\r\n",
      "pydocstyle                         5.0.2\r\n",
      "pyDOE                              0.3.8\r\n",
      "pyflakes                           2.2.0\r\n",
      "Pygments                           2.6.1\r\n",
      "pylint                             2.5.3\r\n",
      "pyodbc                             4.0.0-unsupported\r\n",
      "pyOpenSSL                          19.1.0\r\n",
      "pyparsing                          2.4.7\r\n",
      "pyrsistent                         0.16.0\r\n",
      "PySocks                            1.7.1\r\n",
      "pytest                             5.4.3\r\n",
      "python-dateutil                    2.8.1\r\n",
      "python-jsonrpc-server              0.3.4\r\n",
      "python-language-server             0.34.1\r\n",
      "pytz                               2020.1\r\n",
      "PyWavelets                         1.1.1\r\n",
      "PyYAML                             5.3.1\r\n",
      "pyzmq                              19.0.1\r\n",
      "QDarkStyle                         2.8.1\r\n",
      "QtAwesome                          0.7.2\r\n",
      "qtconsole                          4.7.5\r\n",
      "QtPy                               1.9.0\r\n",
      "regex                              2020.6.8\r\n",
      "requests                           2.24.0\r\n",
      "requests-oauthlib                  1.3.0\r\n",
      "rope                               0.17.0\r\n",
      "rsa                                4.7.2\r\n",
      "Rtree                              0.9.4\r\n",
      "ruamel-yaml                        0.15.87\r\n",
      "scikit-image                       0.16.2\r\n",
      "scikit-learn                       0.23.1\r\n",
      "scipy                              1.5.0\r\n",
      "seaborn                            0.10.1\r\n",
      "Send2Trash                         1.5.0\r\n",
      "setuptools                         49.2.0.post20200714\r\n",
      "simplegeneric                      0.8.1\r\n",
      "singledispatch                     3.4.0.3\r\n",
      "six                                1.15.0\r\n",
      "snowballstemmer                    2.0.0\r\n",
      "sortedcollections                  1.2.1\r\n",
      "sortedcontainers                   2.2.2\r\n",
      "soupsieve                          2.0.1\r\n",
      "Sphinx                             3.1.2\r\n",
      "sphinxcontrib-applehelp            1.0.2\r\n",
      "sphinxcontrib-devhelp              1.0.2\r\n",
      "sphinxcontrib-htmlhelp             1.0.3\r\n",
      "sphinxcontrib-jsmath               1.0.1\r\n",
      "sphinxcontrib-qthelp               1.0.3\r\n",
      "sphinxcontrib-serializinghtml      1.1.4\r\n",
      "sphinxcontrib-websupport           1.2.3\r\n",
      "spyder                             4.1.4\r\n",
      "spyder-kernels                     1.9.2\r\n",
      "SQLAlchemy                         1.3.18\r\n",
      "statsmodels                        0.11.1\r\n",
      "sympy                              1.6.1\r\n",
      "tables                             3.6.1\r\n",
      "tblib                              1.6.0\r\n",
      "tenacity                           8.0.1\r\n",
      "tensorboard                        2.4.1\r\n",
      "tensorboard-plugin-wit             1.8.0\r\n",
      "tensorflow                         2.4.1\r\n",
      "tensorflow-estimator               2.4.0\r\n",
      "termcolor                          1.1.0\r\n",
      "terminado                          0.8.3\r\n",
      "testpath                           0.4.4\r\n",
      "threadpoolctl                      2.1.0\r\n",
      "toml                               0.10.1\r\n",
      "toolz                              0.10.0\r\n",
      "torch                              1.8.1\r\n",
      "torchvision                        0.9.1\r\n",
      "tornado                            6.0.4\r\n",
      "tqdm                               4.47.0\r\n",
      "traitlets                          4.3.3\r\n",
      "typed-ast                          1.4.3\r\n",
      "typing-extensions                  3.7.4.2\r\n",
      "typing-inspect                     0.7.1\r\n",
      "ujson                              1.35\r\n",
      "unicodecsv                         0.14.1\r\n",
      "urllib3                            1.25.9\r\n",
      "watchdog                           0.10.3\r\n",
      "wcwidth                            0.2.5\r\n",
      "webencodings                       0.5.1\r\n",
      "webserver                          0.10.3\r\n",
      "Werkzeug                           1.0.1\r\n",
      "wheel                              0.36.2\r\n",
      "widgetsnbextension                 3.5.1\r\n",
      "wrapt                              1.12.1\r\n",
      "WTForms                            3.0.0\r\n",
      "wurlitzer                          2.0.1\r\n",
      "xlrd                               1.2.0\r\n",
      "XlsxWriter                         1.2.9\r\n",
      "xlwings                            0.19.5\r\n",
      "xlwt                               1.3.0\r\n",
      "xmltodict                          0.12.0\r\n",
      "yapf                               0.30.0\r\n",
      "zict                               2.0.0\r\n",
      "zipp                               3.1.0\r\n",
      "zope.event                         4.4\r\n",
      "zope.interface                     4.7.1\r\n"
     ]
    }
   ],
   "source": [
    "!pip list"
   ]
  },
  {
   "cell_type": "markdown",
   "metadata": {},
   "source": [
    "### Mini task #2\n",
    "Install the `pandas` and `numpy` package using the command line. Import the dataset from the `data` folder as a csv"
   ]
  },
  {
   "cell_type": "code",
   "execution_count": null,
   "metadata": {},
   "outputs": [],
   "source": [
    "# your code"
   ]
  }
 ],
 "metadata": {
  "kernelspec": {
   "display_name": "Python 3",
   "language": "python",
   "name": "python3"
  },
  "language_info": {
   "codemirror_mode": {
    "name": "ipython",
    "version": 3
   },
   "file_extension": ".py",
   "mimetype": "text/x-python",
   "name": "python",
   "nbconvert_exporter": "python",
   "pygments_lexer": "ipython3",
   "version": "3.8.3"
  }
 },
 "nbformat": 4,
 "nbformat_minor": 4
}
