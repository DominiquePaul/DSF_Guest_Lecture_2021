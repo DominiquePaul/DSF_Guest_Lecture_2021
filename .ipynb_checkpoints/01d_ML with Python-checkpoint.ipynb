{
 "cells": [
  {
   "cell_type": "markdown",
   "metadata": {},
   "source": [
    "# Basic ML in Python\n",
    "\n",
    "This is a toy script to give you an impression of what running a simple machine learning model looks like in Python."
   ]
  },
  {
   "cell_type": "code",
   "execution_count": 8,
   "metadata": {},
   "outputs": [],
   "source": [
    "# !pip install pandas\n",
    "import pandas as pd\n",
    "\n",
    "# !pip install scikit-learn\n",
    "from sklearn.linear_model import LogisticRegression\n",
    "from sklearn.model_selection import train_test_split"
   ]
  },
  {
   "cell_type": "code",
   "execution_count": 6,
   "metadata": {},
   "outputs": [],
   "source": [
    "df = pd.read_csv(\"./data/cancer.csv\")"
   ]
  },
  {
   "cell_type": "code",
   "execution_count": 7,
   "metadata": {},
   "outputs": [
    {
     "data": {
      "text/html": [
       "<div>\n",
       "<style scoped>\n",
       "    .dataframe tbody tr th:only-of-type {\n",
       "        vertical-align: middle;\n",
       "    }\n",
       "\n",
       "    .dataframe tbody tr th {\n",
       "        vertical-align: top;\n",
       "    }\n",
       "\n",
       "    .dataframe thead th {\n",
       "        text-align: right;\n",
       "    }\n",
       "</style>\n",
       "<table border=\"1\" class=\"dataframe\">\n",
       "  <thead>\n",
       "    <tr style=\"text-align: right;\">\n",
       "      <th></th>\n",
       "      <th>Unnamed: 0</th>\n",
       "      <th>mean_perimeter</th>\n",
       "      <th>mean_radius</th>\n",
       "      <th>mean_smoothness</th>\n",
       "      <th>Class</th>\n",
       "      <th>smoothness_to_perimeter</th>\n",
       "      <th>Predictions</th>\n",
       "    </tr>\n",
       "  </thead>\n",
       "  <tbody>\n",
       "    <tr>\n",
       "      <th>0</th>\n",
       "      <td>455</td>\n",
       "      <td>86.34</td>\n",
       "      <td>13.380</td>\n",
       "      <td>0.09245</td>\n",
       "      <td>1</td>\n",
       "      <td>0.001071</td>\n",
       "      <td>1</td>\n",
       "    </tr>\n",
       "    <tr>\n",
       "      <th>1</th>\n",
       "      <td>456</td>\n",
       "      <td>74.87</td>\n",
       "      <td>11.630</td>\n",
       "      <td>0.09357</td>\n",
       "      <td>1</td>\n",
       "      <td>0.001250</td>\n",
       "      <td>1</td>\n",
       "    </tr>\n",
       "    <tr>\n",
       "      <th>2</th>\n",
       "      <td>457</td>\n",
       "      <td>84.10</td>\n",
       "      <td>13.210</td>\n",
       "      <td>0.08791</td>\n",
       "      <td>1</td>\n",
       "      <td>0.001045</td>\n",
       "      <td>1</td>\n",
       "    </tr>\n",
       "    <tr>\n",
       "      <th>3</th>\n",
       "      <td>458</td>\n",
       "      <td>82.61</td>\n",
       "      <td>13.000</td>\n",
       "      <td>0.08369</td>\n",
       "      <td>1</td>\n",
       "      <td>0.001013</td>\n",
       "      <td>1</td>\n",
       "    </tr>\n",
       "    <tr>\n",
       "      <th>4</th>\n",
       "      <td>459</td>\n",
       "      <td>61.68</td>\n",
       "      <td>9.755</td>\n",
       "      <td>0.07984</td>\n",
       "      <td>1</td>\n",
       "      <td>0.001294</td>\n",
       "      <td>1</td>\n",
       "    </tr>\n",
       "    <tr>\n",
       "      <th>...</th>\n",
       "      <td>...</td>\n",
       "      <td>...</td>\n",
       "      <td>...</td>\n",
       "      <td>...</td>\n",
       "      <td>...</td>\n",
       "      <td>...</td>\n",
       "      <td>...</td>\n",
       "    </tr>\n",
       "    <tr>\n",
       "      <th>109</th>\n",
       "      <td>564</td>\n",
       "      <td>142.00</td>\n",
       "      <td>21.560</td>\n",
       "      <td>0.11100</td>\n",
       "      <td>2</td>\n",
       "      <td>0.000782</td>\n",
       "      <td>2</td>\n",
       "    </tr>\n",
       "    <tr>\n",
       "      <th>110</th>\n",
       "      <td>565</td>\n",
       "      <td>131.20</td>\n",
       "      <td>20.130</td>\n",
       "      <td>0.09780</td>\n",
       "      <td>2</td>\n",
       "      <td>0.000745</td>\n",
       "      <td>2</td>\n",
       "    </tr>\n",
       "    <tr>\n",
       "      <th>111</th>\n",
       "      <td>566</td>\n",
       "      <td>108.30</td>\n",
       "      <td>16.600</td>\n",
       "      <td>0.08455</td>\n",
       "      <td>2</td>\n",
       "      <td>0.000781</td>\n",
       "      <td>2</td>\n",
       "    </tr>\n",
       "    <tr>\n",
       "      <th>112</th>\n",
       "      <td>567</td>\n",
       "      <td>140.10</td>\n",
       "      <td>20.600</td>\n",
       "      <td>0.11780</td>\n",
       "      <td>2</td>\n",
       "      <td>0.000841</td>\n",
       "      <td>2</td>\n",
       "    </tr>\n",
       "    <tr>\n",
       "      <th>113</th>\n",
       "      <td>568</td>\n",
       "      <td>47.92</td>\n",
       "      <td>7.760</td>\n",
       "      <td>0.05263</td>\n",
       "      <td>1</td>\n",
       "      <td>0.001098</td>\n",
       "      <td>1</td>\n",
       "    </tr>\n",
       "  </tbody>\n",
       "</table>\n",
       "<p>114 rows × 7 columns</p>\n",
       "</div>"
      ],
      "text/plain": [
       "     Unnamed: 0  mean_perimeter  mean_radius  mean_smoothness  Class  \\\n",
       "0           455           86.34       13.380          0.09245      1   \n",
       "1           456           74.87       11.630          0.09357      1   \n",
       "2           457           84.10       13.210          0.08791      1   \n",
       "3           458           82.61       13.000          0.08369      1   \n",
       "4           459           61.68        9.755          0.07984      1   \n",
       "..          ...             ...          ...              ...    ...   \n",
       "109         564          142.00       21.560          0.11100      2   \n",
       "110         565          131.20       20.130          0.09780      2   \n",
       "111         566          108.30       16.600          0.08455      2   \n",
       "112         567          140.10       20.600          0.11780      2   \n",
       "113         568           47.92        7.760          0.05263      1   \n",
       "\n",
       "     smoothness_to_perimeter  Predictions  \n",
       "0                   0.001071            1  \n",
       "1                   0.001250            1  \n",
       "2                   0.001045            1  \n",
       "3                   0.001013            1  \n",
       "4                   0.001294            1  \n",
       "..                       ...          ...  \n",
       "109                 0.000782            2  \n",
       "110                 0.000745            2  \n",
       "111                 0.000781            2  \n",
       "112                 0.000841            2  \n",
       "113                 0.001098            1  \n",
       "\n",
       "[114 rows x 7 columns]"
      ]
     },
     "execution_count": 7,
     "metadata": {},
     "output_type": "execute_result"
    }
   ],
   "source": [
    "df"
   ]
  },
  {
   "cell_type": "markdown",
   "metadata": {},
   "source": [
    "We subset our data for our ML task"
   ]
  },
  {
   "cell_type": "code",
   "execution_count": 17,
   "metadata": {},
   "outputs": [],
   "source": [
    "feature_columns = [\"mean_perimeter\", \"mean_radius\", \"mean_smoothness\", \"smoothness_to_perimeter\"]\n",
    "x = df[feature_columns]\n",
    "y = df[\"Class\"]\n",
    "\n",
    "x_train, x_test, y_train, y_test = train_test_split(x, y, test_size=0.2)"
   ]
  },
  {
   "cell_type": "markdown",
   "metadata": {},
   "source": [
    "...and build our model"
   ]
  },
  {
   "cell_type": "code",
   "execution_count": 33,
   "metadata": {},
   "outputs": [
    {
     "data": {
      "text/plain": [
       "array([1, 1, 1, 2, 2, 1, 1, 1, 1, 2, 1, 2, 1, 1, 1, 1, 1, 1, 1, 1, 1, 1,\n",
       "       1])"
      ]
     },
     "execution_count": 33,
     "metadata": {},
     "output_type": "execute_result"
    }
   ],
   "source": [
    "# create a new, but still untrained model\n",
    "model = LogisticRegression()\n",
    "\n",
    "# fit the model\n",
    "model.fit(x_train, y_train)"
   ]
  },
  {
   "cell_type": "markdown",
   "metadata": {},
   "source": [
    "We can predict labels"
   ]
  },
  {
   "cell_type": "code",
   "execution_count": 39,
   "metadata": {},
   "outputs": [
    {
     "data": {
      "text/plain": [
       "array([1, 1, 1, 2, 2, 1, 1, 1, 1, 2, 1, 2, 1, 1, 1, 1, 1, 1, 1, 1, 1, 1,\n",
       "       1])"
      ]
     },
     "execution_count": 39,
     "metadata": {},
     "output_type": "execute_result"
    }
   ],
   "source": [
    "model.predict(x_test)"
   ]
  },
  {
   "cell_type": "markdown",
   "metadata": {},
   "source": [
    "...or the probabilities"
   ]
  },
  {
   "cell_type": "code",
   "execution_count": 40,
   "metadata": {},
   "outputs": [
    {
     "data": {
      "text/plain": [
       "array([[9.86029491e-01, 1.39705090e-02],\n",
       "       [9.43074000e-01, 5.69259999e-02],\n",
       "       [8.46651533e-01, 1.53348467e-01],\n",
       "       [1.60209374e-02, 9.83979063e-01],\n",
       "       [4.86787492e-01, 5.13212508e-01],\n",
       "       [9.97404077e-01, 2.59592346e-03],\n",
       "       [9.88330891e-01, 1.16691088e-02],\n",
       "       [7.29503910e-01, 2.70496090e-01],\n",
       "       [9.90863689e-01, 9.13631093e-03],\n",
       "       [8.52815334e-02, 9.14718467e-01],\n",
       "       [9.95015413e-01, 4.98458663e-03],\n",
       "       [3.48847266e-01, 6.51152734e-01],\n",
       "       [9.49644346e-01, 5.03556545e-02],\n",
       "       [9.98375552e-01, 1.62444780e-03],\n",
       "       [9.99043965e-01, 9.56034825e-04],\n",
       "       [9.90644158e-01, 9.35584160e-03],\n",
       "       [9.99059265e-01, 9.40734717e-04],\n",
       "       [9.86075953e-01, 1.39240466e-02],\n",
       "       [9.80988870e-01, 1.90111303e-02],\n",
       "       [9.50612954e-01, 4.93870464e-02],\n",
       "       [9.01245151e-01, 9.87548487e-02],\n",
       "       [9.93673219e-01, 6.32678088e-03],\n",
       "       [9.84604418e-01, 1.53955819e-02]])"
      ]
     },
     "execution_count": 40,
     "metadata": {},
     "output_type": "execute_result"
    }
   ],
   "source": [
    "model.predict_proba(x_test) # each column corresponds to the probability for each label"
   ]
  },
  {
   "cell_type": "markdown",
   "metadata": {},
   "source": [
    "We can also run an automatic evaluation of the model"
   ]
  },
  {
   "cell_type": "code",
   "execution_count": 36,
   "metadata": {},
   "outputs": [
    {
     "data": {
      "text/plain": [
       "1.0"
      ]
     },
     "execution_count": 36,
     "metadata": {},
     "output_type": "execute_result"
    }
   ],
   "source": [
    "model.score(x_test, y_test)"
   ]
  }
 ],
 "metadata": {
  "kernelspec": {
   "display_name": "Python 3",
   "language": "python",
   "name": "python3"
  },
  "language_info": {
   "codemirror_mode": {
    "name": "ipython",
    "version": 3
   },
   "file_extension": ".py",
   "mimetype": "text/x-python",
   "name": "python",
   "nbconvert_exporter": "python",
   "pygments_lexer": "ipython3",
   "version": "3.8.3"
  }
 },
 "nbformat": 4,
 "nbformat_minor": 4
}
