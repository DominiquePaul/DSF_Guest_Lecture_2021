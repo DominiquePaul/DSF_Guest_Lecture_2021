{
 "cells": [
  {
   "cell_type": "markdown",
   "metadata": {},
   "source": [
    "# Application Programming Interfaces (APIs)\n",
    "Watch [this video](https://www.youtube.com/watch?v=bqg6lDsD0-I&ab_channel=DominiquePaul) that I created for a detailed explanation.\n",
    "\n",
    "To make API request in Python we use the requests package (again, so convenient that somebody already implemented this for us!). In this case we will make a request to a weather API to get the current weather for Zurich.\n",
    "\n",
    "As explained in the video, we need to know where we want to send the request (i.e. the endpoint) and we should know what we can send there (parameters). In our case we will also need to have an API key ready to access the API.\n",
    "\n",
    "\n",
    "## Using the OpenWeather API\n",
    "You can find out more about the API we are using and create an account for free here:\n",
    "https://openweathermap.org/\n",
    "\n",
    "You can read up the documentation of the API we are calling here:\n",
    "https://openweathermap.org/current\n"
   ]
  },
  {
   "cell_type": "code",
   "execution_count": 1,
   "metadata": {},
   "outputs": [],
   "source": [
    "# you might need to run this\n",
    "#!pip install requests\n",
    "\n",
    "import requests"
   ]
  },
  {
   "cell_type": "markdown",
   "metadata": {},
   "source": [
    "We can read up on the [documentation](https://requests.readthedocs.io/en/master/user/quickstart/) to understand how to make a API request using the requests package.\n",
    "\n",
    "We will first define all of the information we need to make the request."
   ]
  },
  {
   "cell_type": "code",
   "execution_count": 2,
   "metadata": {},
   "outputs": [],
   "source": [
    "# fast and sloppy way to enter an api key \n",
    "WEATHER_API_KEY = \"enter-your-key-here\"\n",
    "\n",
    "# Safe way to enter an api key: Load it from a file where you keep all your credentials and \n",
    "# that you don't upload or share anywhere\n",
    "from secrets_file import WEATHER_API_KEY\n",
    "\n",
    "\n",
    "\n",
    "endpoint = \"http://api.openweathermap.org/data/2.5/weather\"\n",
    "\n",
    "parameters = {\"q\": \"St. Gallen\",\n",
    "              \"appid\": WEATHER_API_KEY}"
   ]
  },
  {
   "cell_type": "markdown",
   "metadata": {},
   "source": [
    "Now we can make the API call"
   ]
  },
  {
   "cell_type": "code",
   "execution_count": 3,
   "metadata": {},
   "outputs": [
    {
     "data": {
      "text/plain": [
       "<Response [200]>"
      ]
     },
     "execution_count": 3,
     "metadata": {},
     "output_type": "execute_result"
    }
   ],
   "source": [
    "r = requests.get(endpoint, params=parameters)\n",
    "r"
   ]
  },
  {
   "cell_type": "markdown",
   "metadata": {},
   "source": [
    "Hmm, this isn't very useful. Lets inspect the object that the package returns to us:"
   ]
  },
  {
   "cell_type": "code",
   "execution_count": 4,
   "metadata": {},
   "outputs": [
    {
     "data": {
      "text/plain": [
       "['__attrs__',\n",
       " '__bool__',\n",
       " '__class__',\n",
       " '__delattr__',\n",
       " '__dict__',\n",
       " '__dir__',\n",
       " '__doc__',\n",
       " '__enter__',\n",
       " '__eq__',\n",
       " '__exit__',\n",
       " '__format__',\n",
       " '__ge__',\n",
       " '__getattribute__',\n",
       " '__getstate__',\n",
       " '__gt__',\n",
       " '__hash__',\n",
       " '__init__',\n",
       " '__init_subclass__',\n",
       " '__iter__',\n",
       " '__le__',\n",
       " '__lt__',\n",
       " '__module__',\n",
       " '__ne__',\n",
       " '__new__',\n",
       " '__nonzero__',\n",
       " '__reduce__',\n",
       " '__reduce_ex__',\n",
       " '__repr__',\n",
       " '__setattr__',\n",
       " '__setstate__',\n",
       " '__sizeof__',\n",
       " '__str__',\n",
       " '__subclasshook__',\n",
       " '__weakref__',\n",
       " '_content',\n",
       " '_content_consumed',\n",
       " '_next',\n",
       " 'apparent_encoding',\n",
       " 'close',\n",
       " 'connection',\n",
       " 'content',\n",
       " 'cookies',\n",
       " 'elapsed',\n",
       " 'encoding',\n",
       " 'headers',\n",
       " 'history',\n",
       " 'is_permanent_redirect',\n",
       " 'is_redirect',\n",
       " 'iter_content',\n",
       " 'iter_lines',\n",
       " 'json',\n",
       " 'links',\n",
       " 'next',\n",
       " 'ok',\n",
       " 'raise_for_status',\n",
       " 'raw',\n",
       " 'reason',\n",
       " 'request',\n",
       " 'status_code',\n",
       " 'text',\n",
       " 'url']"
      ]
     },
     "execution_count": 4,
     "metadata": {},
     "output_type": "execute_result"
    }
   ],
   "source": [
    "dir(r)"
   ]
  },
  {
   "cell_type": "markdown",
   "metadata": {},
   "source": [
    "Of these options it would presumably be worthwhile checking out: url, request, status_code, text and text"
   ]
  },
  {
   "cell_type": "markdown",
   "metadata": {},
   "source": [
    "## Other attributes of the response object\n",
    "The query sent (notice how the parameters got added to the url)"
   ]
  },
  {
   "cell_type": "code",
   "execution_count": 5,
   "metadata": {
    "scrolled": true
   },
   "outputs": [
    {
     "data": {
      "text/plain": [
       "'http://api.openweathermap.org/data/2.5/weather?q=St.+Gallen&appid=your-api-key-here'"
      ]
     },
     "execution_count": 5,
     "metadata": {},
     "output_type": "execute_result"
    }
   ],
   "source": [
    "r.url"
   ]
  },
  {
   "cell_type": "markdown",
   "metadata": {},
   "source": [
    "Also not what were looking for"
   ]
  },
  {
   "cell_type": "code",
   "execution_count": 6,
   "metadata": {},
   "outputs": [
    {
     "data": {
      "text/plain": [
       "<PreparedRequest [GET]>"
      ]
     },
     "execution_count": 6,
     "metadata": {},
     "output_type": "execute_result"
    }
   ],
   "source": [
    "r.request"
   ]
  },
  {
   "cell_type": "markdown",
   "metadata": {},
   "source": [
    "The status code tells us whether our request was successful. If you run into errors, you can check out all status codes here:\n",
    "https://developer.mozilla.org/en-US/docs/Web/HTTP/Status"
   ]
  },
  {
   "cell_type": "code",
   "execution_count": 7,
   "metadata": {},
   "outputs": [
    {
     "data": {
      "text/plain": [
       "200"
      ]
     },
     "execution_count": 7,
     "metadata": {},
     "output_type": "execute_result"
    }
   ],
   "source": [
    "r.status_code"
   ]
  },
  {
   "cell_type": "markdown",
   "metadata": {},
   "source": [
    "This is what we were looking for. But this is text only and difficult to read out information if the response is longer. so what we normally use is .json() which gives us the response in a python dictionary format"
   ]
  },
  {
   "cell_type": "code",
   "execution_count": 8,
   "metadata": {},
   "outputs": [
    {
     "data": {
      "text/plain": [
       "'{\"coord\":{\"lon\":9.37,\"lat\":47.42},\"weather\":[{\"id\":804,\"main\":\"Clouds\",\"description\":\"overcast clouds\",\"icon\":\"04n\"}],\"base\":\"stations\",\"main\":{\"temp\":280.83,\"feels_like\":279.49,\"temp_min\":279.26,\"temp_max\":282.15,\"pressure\":1009,\"humidity\":87},\"visibility\":10000,\"wind\":{\"speed\":0.5,\"deg\":0},\"clouds\":{\"all\":90},\"dt\":1601247601,\"sys\":{\"type\":1,\"id\":6944,\"country\":\"CH\",\"sunrise\":1601270258,\"sunset\":1601312904},\"timezone\":7200,\"id\":2658822,\"name\":\"St. Gallen\",\"cod\":200}'"
      ]
     },
     "execution_count": 8,
     "metadata": {},
     "output_type": "execute_result"
    }
   ],
   "source": [
    "r.text"
   ]
  },
  {
   "cell_type": "markdown",
   "metadata": {},
   "source": [
    "This is what we want!"
   ]
  },
  {
   "cell_type": "code",
   "execution_count": 11,
   "metadata": {
    "scrolled": true
   },
   "outputs": [
    {
     "data": {
      "text/plain": [
       "{'coord': {'lon': 9.37, 'lat': 47.42},\n",
       " 'weather': [{'id': 804,\n",
       "   'main': 'Clouds',\n",
       "   'description': 'overcast clouds',\n",
       "   'icon': '04n'}],\n",
       " 'base': 'stations',\n",
       " 'main': {'temp': 280.83,\n",
       "  'feels_like': 279.49,\n",
       "  'temp_min': 279.26,\n",
       "  'temp_max': 282.15,\n",
       "  'pressure': 1009,\n",
       "  'humidity': 87},\n",
       " 'visibility': 10000,\n",
       " 'wind': {'speed': 0.5, 'deg': 0},\n",
       " 'clouds': {'all': 90},\n",
       " 'dt': 1601247601,\n",
       " 'sys': {'type': 1,\n",
       "  'id': 6944,\n",
       "  'country': 'CH',\n",
       "  'sunrise': 1601270258,\n",
       "  'sunset': 1601312904},\n",
       " 'timezone': 7200,\n",
       " 'id': 2658822,\n",
       " 'name': 'St. Gallen',\n",
       " 'cod': 200}"
      ]
     },
     "execution_count": 11,
     "metadata": {},
     "output_type": "execute_result"
    }
   ],
   "source": [
    "r.json()"
   ]
  },
  {
   "cell_type": "code",
   "execution_count": 12,
   "metadata": {},
   "outputs": [
    {
     "data": {
      "text/plain": [
       "{'coord': {'lon': 9.37, 'lat': 47.42},\n",
       " 'weather': [{'id': 804,\n",
       "   'main': 'Clouds',\n",
       "   'description': 'overcast clouds',\n",
       "   'icon': '04n'}],\n",
       " 'base': 'stations',\n",
       " 'main': {'temp': 280.83,\n",
       "  'feels_like': 279.49,\n",
       "  'temp_min': 279.26,\n",
       "  'temp_max': 282.15,\n",
       "  'pressure': 1009,\n",
       "  'humidity': 87},\n",
       " 'visibility': 10000,\n",
       " 'wind': {'speed': 0.5, 'deg': 0},\n",
       " 'clouds': {'all': 90},\n",
       " 'dt': 1601247601,\n",
       " 'sys': {'type': 1,\n",
       "  'id': 6944,\n",
       "  'country': 'CH',\n",
       "  'sunrise': 1601270258,\n",
       "  'sunset': 1601312904},\n",
       " 'timezone': 7200,\n",
       " 'id': 2658822,\n",
       " 'name': 'St. Gallen',\n",
       " 'cod': 200}"
      ]
     },
     "execution_count": 12,
     "metadata": {},
     "output_type": "execute_result"
    }
   ],
   "source": [
    "data = r.json()\n",
    "data"
   ]
  },
  {
   "cell_type": "markdown",
   "metadata": {},
   "source": [
    "Great! That looks like a dictionary and we luckily are quite familiar with dictionaries. \n",
    "\n",
    "We could also have googled \"how to read requests object python\" which would either get us to stackoverflow or to the website of W3 schools with [this article](how to read requests object python). There we could have checked in more detail what the good options are.\n",
    "\n",
    "Now lets extract the temperature."
   ]
  },
  {
   "cell_type": "code",
   "execution_count": 13,
   "metadata": {},
   "outputs": [
    {
     "data": {
      "text/plain": [
       "280.83"
      ]
     },
     "execution_count": 13,
     "metadata": {},
     "output_type": "execute_result"
    }
   ],
   "source": [
    "temperature = data[\"main\"][\"temp\"]\n",
    "temperature"
   ]
  },
  {
   "cell_type": "markdown",
   "metadata": {},
   "source": [
    "Thats in kelvin! We would rather have it in celsius, so we read through the documentation to see if we can possibly change that.\n",
    "\n",
    "And we're lucky, we can just add the parameter \"units\" to our request:"
   ]
  },
  {
   "cell_type": "code",
   "execution_count": 14,
   "metadata": {},
   "outputs": [
    {
     "name": "stdout",
     "output_type": "stream",
     "text": [
      "Right now the weather in St. Gallen is 7.49 degrees celsius\n"
     ]
    }
   ],
   "source": [
    "parameters[\"units\"] = \"metric\"\n",
    "r = requests.get(endpoint, params=parameters)\n",
    "data = r.json()\n",
    "\n",
    "temperature = data[\"main\"][\"temp\"]\n",
    "temperature\n",
    "\n",
    "print(f\"Right now the weather in St. Gallen is {temperature} degrees celsius\")"
   ]
  },
  {
   "cell_type": "markdown",
   "metadata": {},
   "source": [
    "## Minitask 1:\n",
    "Turn the code we just wrote into a function that takes the argument \"location\" and returns the temperature in celsius for the location"
   ]
  },
  {
   "cell_type": "code",
   "execution_count": 15,
   "metadata": {},
   "outputs": [],
   "source": [
    "# your code"
   ]
  },
  {
   "cell_type": "markdown",
   "metadata": {},
   "source": [
    "# Using the currency exchange API\n",
    "Get your API key and read the documentation here: https://rapidapi.com/fyhao/api/currency-exchange\n",
    "\n",
    "We again load our API key and the store the endpoint as a variable"
   ]
  },
  {
   "cell_type": "code",
   "execution_count": 17,
   "metadata": {},
   "outputs": [],
   "source": [
    "# Never save API keys in your code. You can get your own API key at\n",
    "# https://rapidapi.com/fyhao/api/currency-exchange\n",
    "from secrets_file import FX_API_KEY\n",
    "\n",
    "\n",
    "endpoint = \"https://currency-exchange.p.rapidapi.com/exchange\""
   ]
  },
  {
   "cell_type": "markdown",
   "metadata": {},
   "source": [
    "This API is a bit different. It does not only ask for parameters, but also for headers.\n",
    "\n",
    "Headers include important information to be sent with the message but which do not form part of the request itself. In our case, they contain information about the resource to be fetched and 'who' is asking for it (API key). API keys can asked for as a parameter or as a header, but generally headers are the safer option (See [this stackoverflow question](https://stackoverflow.com/questions/5517281/place-api-key-in-headers-or-url))"
   ]
  },
  {
   "cell_type": "code",
   "execution_count": 18,
   "metadata": {},
   "outputs": [],
   "source": [
    "headers = {\n",
    "    'x-rapidapi-host': \"currency-exchange.p.rapidapi.com\",\n",
    "    'x-rapidapi-key': FX_API_KEY\n",
    "    }"
   ]
  },
  {
   "cell_type": "markdown",
   "metadata": {},
   "source": [
    "We also need parameters here for some generic information. The parameters contain information about the query itself (not the user who is making it): what information are we asking for?"
   ]
  },
  {
   "cell_type": "code",
   "execution_count": 19,
   "metadata": {},
   "outputs": [],
   "source": [
    "parameters = {\"q\":\"1.0\",\n",
    "              \"from\":\"EUR\",\n",
    "              \"to\":\"USD\"}"
   ]
  },
  {
   "cell_type": "code",
   "execution_count": 20,
   "metadata": {},
   "outputs": [
    {
     "data": {
      "text/plain": [
       "1.162534"
      ]
     },
     "execution_count": 20,
     "metadata": {},
     "output_type": "execute_result"
    }
   ],
   "source": [
    "r = requests.get(endpoint, headers=headers, params=parameters)\n",
    "fx_rate = r.json()\n",
    "fx_rate"
   ]
  },
  {
   "cell_type": "code",
   "execution_count": 21,
   "metadata": {},
   "outputs": [
    {
     "name": "stdout",
     "output_type": "stream",
     "text": [
      "The exchange rate of the euro to the dollar is: 1.162534\n"
     ]
    }
   ],
   "source": [
    "print(f\"The exchange rate of the euro to the dollar is: {fx_rate}\")\n"
   ]
  },
  {
   "cell_type": "markdown",
   "metadata": {},
   "source": [
    "## Minitask 2\n",
    "Again, wrap this into a function"
   ]
  },
  {
   "cell_type": "markdown",
   "metadata": {},
   "source": [
    "# Your turn: Querying the Nasa API\n",
    "Its your turn! Have a look at Nasa's APIs which are online for free. Download your API key from here: https://api.nasa.gov\n",
    "\n",
    "Try to do the following, but careful you might have to do some additional work to understand how to display images\n",
    "\n",
    "1. Make a request to the Astronomy picture of the day api and inspect the response\n",
    "2. Try to display the image from the image url provided\n",
    "3. Retrieve and display the 'image of the day' from the 1s of October 2019\n",
    "4. Retrieve an image of a date of your choice and save it to your local directory"
   ]
  },
  {
   "cell_type": "code",
   "execution_count": null,
   "metadata": {},
   "outputs": [],
   "source": []
  }
 ],
 "metadata": {
  "kernelspec": {
   "display_name": "Python 3",
   "language": "python",
   "name": "python3"
  },
  "language_info": {
   "codemirror_mode": {
    "name": "ipython",
    "version": 3
   },
   "file_extension": ".py",
   "mimetype": "text/x-python",
   "name": "python",
   "nbconvert_exporter": "python",
   "pygments_lexer": "ipython3",
   "version": "3.8.3"
  }
 },
 "nbformat": 4,
 "nbformat_minor": 4
}
