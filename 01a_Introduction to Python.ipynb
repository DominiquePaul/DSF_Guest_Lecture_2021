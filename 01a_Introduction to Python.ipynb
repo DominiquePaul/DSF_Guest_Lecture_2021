{
 "cells": [
  {
   "cell_type": "markdown",
   "metadata": {},
   "source": [
    "# DSCS 2020\n",
    "## Lecture 2 - Introduction to Python\n",
    "\n",
    "1. The Basics\n",
    " 1. Variables and printing\n",
    " 1. Numbers\n",
    " 1. Remainders\n",
    " 1. Strings\n",
    " 1. Working with user input\n",
    " 1. Booleans\n",
    " 1. Lists\n",
    " 1. Tuples\n",
    " 1. Sets\n",
    " 1. Dictionaries\n",
    " 1. Length, Sum, Round and Type\n",
    " 1. More logical statements `in` and `not`\n",
    "\n",
    "2. Advanced Python\n",
    "    1. If Statements\n",
    "    1. While loops\n",
    "    1. For loops\n",
    "    1. Break and Continue\n",
    "    1. Functions\n",
    "        1. Basics\n",
    "        1. Arguments and Parameters\n",
    "        1. Return Values\n",
    "        1. Specifying Parameters\n",
    "        1. Default Parameters\n",
    "3. Some Practice Problems\n",
    "    1. Largest Numbers\n",
    "    1. Prime Numbers\n",
    "    1. Print all keys of a dictionary"
   ]
  },
  {
   "cell_type": "markdown",
   "metadata": {},
   "source": [
    "# 1. The basics"
   ]
  },
  {
   "cell_type": "markdown",
   "metadata": {},
   "source": [
    "## 1.1 Variables and printing\n",
    "We can define a variable using any name. Names can contain letters, underscores and numbers, but are not allows to *start* with a number\n"
   ]
  },
  {
   "cell_type": "code",
   "execution_count": 1,
   "metadata": {},
   "outputs": [],
   "source": [
    "length = 42"
   ]
  },
  {
   "cell_type": "markdown",
   "metadata": {},
   "source": [
    "We can print a value using the print() function."
   ]
  },
  {
   "cell_type": "code",
   "execution_count": 2,
   "metadata": {},
   "outputs": [
    {
     "name": "stdout",
     "output_type": "stream",
     "text": [
      "42\n"
     ]
    }
   ],
   "source": [
    "print(length)"
   ]
  },
  {
   "cell_type": "markdown",
   "metadata": {},
   "source": [
    "But in Jupyter or Hydrogen we can also just print values as such"
   ]
  },
  {
   "cell_type": "code",
   "execution_count": 3,
   "metadata": {},
   "outputs": [
    {
     "data": {
      "text/plain": [
       "42"
      ]
     },
     "execution_count": 3,
     "metadata": {},
     "output_type": "execute_result"
    }
   ],
   "source": [
    "length"
   ]
  },
  {
   "cell_type": "markdown",
   "metadata": {},
   "source": [
    "Be careful that you don't use variable names that are already in use for functions or serve some other built-in prupose in python. This breaks: "
   ]
  },
  {
   "cell_type": "code",
   "execution_count": 4,
   "metadata": {},
   "outputs": [
    {
     "ename": "TypeError",
     "evalue": "'int' object is not callable",
     "output_type": "error",
     "traceback": [
      "\u001b[0;31m---------------------------------------------------------------------------\u001b[0m",
      "\u001b[0;31mTypeError\u001b[0m                                 Traceback (most recent call last)",
      "\u001b[0;32m<ipython-input-4-82dda84f1b85>\u001b[0m in \u001b[0;36m<module>\u001b[0;34m\u001b[0m\n\u001b[1;32m      1\u001b[0m \u001b[0mprint\u001b[0m \u001b[0;34m=\u001b[0m \u001b[0;36m42\u001b[0m\u001b[0;34m\u001b[0m\u001b[0;34m\u001b[0m\u001b[0m\n\u001b[0;32m----> 2\u001b[0;31m \u001b[0mprint\u001b[0m\u001b[0;34m(\u001b[0m\u001b[0mprint\u001b[0m\u001b[0;34m)\u001b[0m \u001b[0;31m# this causes an error\u001b[0m\u001b[0;34m\u001b[0m\u001b[0;34m\u001b[0m\u001b[0m\n\u001b[0m",
      "\u001b[0;31mTypeError\u001b[0m: 'int' object is not callable"
     ]
    }
   ],
   "source": [
    "print = 42\n",
    "print(print) # this causes an error"
   ]
  },
  {
   "cell_type": "markdown",
   "metadata": {},
   "source": [
    "Reset the kernel after running the line above:\n",
    "Kernel -> Restart\n",
    "\n",
    "We could in theory just print variable values directly, but the what makes variables interesting is that their values can change"
   ]
  },
  {
   "cell_type": "code",
   "execution_count": 1,
   "metadata": {},
   "outputs": [
    {
     "name": "stdout",
     "output_type": "stream",
     "text": [
      "42\n",
      "17\n"
     ]
    }
   ],
   "source": [
    "length = 42\n",
    "print(length)\n",
    "length = 17\n",
    "print(length)"
   ]
  },
  {
   "cell_type": "markdown",
   "metadata": {},
   "source": [
    "Try to keep your code as readible as possible! Use names for variables that explain what they are used for and if the names are a bit longer, then use underscores to separate words, like this:\n"
   ]
  },
  {
   "cell_type": "code",
   "execution_count": 2,
   "metadata": {},
   "outputs": [],
   "source": [
    "templengthlectureduration =  225 # somewhat tricky to read\n",
    "temp_length_lecture_duration = 225 # much nicer to read"
   ]
  },
  {
   "cell_type": "markdown",
   "metadata": {},
   "source": [
    "On a side note: we can make comments in our code using `#` at the beginning of a line. For longer comments you can use tripple quotes. Comments might show up in Hydrogen or Jupyter, but are not cosnidered by Python"
   ]
  },
  {
   "cell_type": "code",
   "execution_count": 3,
   "metadata": {},
   "outputs": [
    {
     "data": {
      "text/plain": [
       "' \\nyou can use \\nthese for \\nlonger comments\\n'"
      ]
     },
     "execution_count": 3,
     "metadata": {},
     "output_type": "execute_result"
    }
   ],
   "source": [
    "# This is a single line comment\n",
    "# print(\"This won't work\")\n",
    "\n",
    "\n",
    "\"\"\" \n",
    "you can use \n",
    "these for \n",
    "longer comments\n",
    "\"\"\""
   ]
  },
  {
   "cell_type": "markdown",
   "metadata": {},
   "source": [
    "## 1.2 Numbers\n",
    "There are two types of numbers, natural numbers (called integers) and numbers with decimals after them (floating points)"
   ]
  },
  {
   "cell_type": "code",
   "execution_count": 4,
   "metadata": {},
   "outputs": [],
   "source": [
    "length = 42 # -> This is an integer\n",
    "width = 19.7 # -> This is a floating point (or just called float)"
   ]
  },
  {
   "cell_type": "markdown",
   "metadata": {},
   "source": [
    "We can run regular math operations on these numbers"
   ]
  },
  {
   "cell_type": "code",
   "execution_count": 5,
   "metadata": {},
   "outputs": [],
   "source": [
    "perimeter = length + length + width + width\n",
    "\n",
    "surface_area = length * width\n",
    "\n",
    "ratio_width_to_length = width / length # attention! Divisions will always result in floats, even if you have two ints\n",
    "\n",
    "difference_width_length = width - length"
   ]
  },
  {
   "cell_type": "markdown",
   "metadata": {},
   "source": [
    "You can exponentiate numbers by using the double asterisk"
   ]
  },
  {
   "cell_type": "code",
   "execution_count": 6,
   "metadata": {},
   "outputs": [
    {
     "data": {
      "text/plain": [
       "8"
      ]
     },
     "execution_count": 6,
     "metadata": {},
     "output_type": "execute_result"
    }
   ],
   "source": [
    "2 ** 3 # raises two to the power of three 2^3"
   ]
  },
  {
   "cell_type": "markdown",
   "metadata": {},
   "source": [
    "If you want to just alter a numeric variable then you can the operator in front of the `=` sign"
   ]
  },
  {
   "cell_type": "code",
   "execution_count": 7,
   "metadata": {},
   "outputs": [
    {
     "name": "stdout",
     "output_type": "stream",
     "text": [
      "11\n",
      "110\n",
      "11.0\n",
      "1.0\n"
     ]
    }
   ],
   "source": [
    "x = 1\n",
    "x = x + 1 # no need to do this\n",
    "\n",
    "x += 9 # instead we can just do this\n",
    "print(x)\n",
    "\n",
    "# or this\n",
    "\n",
    "x *= 10\n",
    "print(x)\n",
    "\n",
    "x /= 10\n",
    "print(x)\n",
    "\n",
    "x -= 10\n",
    "print(x)"
   ]
  },
  {
   "cell_type": "markdown",
   "metadata": {},
   "source": [
    "You can also perform an integer division which will drop the after comma digits"
   ]
  },
  {
   "cell_type": "code",
   "execution_count": 8,
   "metadata": {},
   "outputs": [
    {
     "name": "stdout",
     "output_type": "stream",
     "text": [
      "5\n",
      "2\n",
      "3\n"
     ]
    }
   ],
   "source": [
    "print(10 // 2) # -> 5 \n",
    "print(10 // 4) # -> 2 \n",
    "print(10 // 3) # -> 3"
   ]
  },
  {
   "cell_type": "markdown",
   "metadata": {},
   "source": [
    "## 1.3 Remainders\n",
    "We just saw how we can perform an integer definition. That is useful for problems like \"How many children can have lunch if I have 124 pieces of bread and each child eats 3 pieces?\".\n",
    "But its also useful to know the remainder of the operation. This is a common problem and you can conveniently do this with the modulo operator which is native to python"
   ]
  },
  {
   "cell_type": "code",
   "execution_count": 9,
   "metadata": {},
   "outputs": [
    {
     "name": "stdout",
     "output_type": "stream",
     "text": [
      "These should be the same:\n",
      "124\n",
      "124\n"
     ]
    }
   ],
   "source": [
    "total_pieces_of_bread = 124\n",
    "average_consumption = 3\n",
    "children_that_i_can_feed = 124 // 3\n",
    "\n",
    "pieces_left_over = 124 % 3\n",
    "\n",
    "print(\"These should be the same:\")\n",
    "print(total_pieces_of_bread)\n",
    "print((children_that_i_can_feed * 3) + pieces_left_over)"
   ]
  },
  {
   "cell_type": "markdown",
   "metadata": {},
   "source": [
    "## 1.4 Strings\n",
    "Strings are can be single characters, words, sentences or even longer chunks of text"
   ]
  },
  {
   "cell_type": "code",
   "execution_count": 10,
   "metadata": {},
   "outputs": [
    {
     "data": {
      "text/plain": [
       "'Hello DSCS class of 2020!'"
      ]
     },
     "execution_count": 10,
     "metadata": {},
     "output_type": "execute_result"
    }
   ],
   "source": [
    "greetings1 = \"Hello DSCS class of 2020!\"\n",
    "greetings1"
   ]
  },
  {
   "cell_type": "markdown",
   "metadata": {},
   "source": [
    "Python doesn't care if we use single or double quotes"
   ]
  },
  {
   "cell_type": "code",
   "execution_count": 11,
   "metadata": {},
   "outputs": [],
   "source": [
    "greetings2 = 'Hello DSCS class of 2020!'"
   ]
  },
  {
   "cell_type": "markdown",
   "metadata": {},
   "source": [
    "Actually, this is something we can take advantage of, if we want to embed a quote in our string"
   ]
  },
  {
   "cell_type": "code",
   "execution_count": 12,
   "metadata": {},
   "outputs": [
    {
     "name": "stdout",
     "output_type": "stream",
     "text": [
      "Ruth Bader Ginsburg is famous to have said: 'I don’t say women’s rights — I say the constitutional principle of the equal citizenship stature of men and women.'\n"
     ]
    }
   ],
   "source": [
    "quoted_text = \"Ruth Bader Ginsburg is famous to have said: 'I don’t say women’s rights — I say the constitutional principle of the equal citizenship stature of men and women.'\"\n",
    "print(quoted_text)"
   ]
  },
  {
   "cell_type": "markdown",
   "metadata": {},
   "source": [
    "If you have a really long text that does not fit on one line, then you can use tripple quotes. These are also very convenient for adding long comments to your code."
   ]
  },
  {
   "cell_type": "code",
   "execution_count": 13,
   "metadata": {
    "scrolled": true
   },
   "outputs": [
    {
     "name": "stdout",
     "output_type": "stream",
     "text": [
      "Few art works sold in the past few years have drawn as much attention as “Comedian” \n",
      "by the Italian artist Maurizio Cattelan, in part because, despite its price and ironic humor, it is \n",
      "at its heart a banana that one tapes to a wall. The sly work’s simplicity enticed collectors to pay \n",
      "as much as $150,000 for it at a Miami art fair last fall, an act of connoisseurship that delighted \n",
      "them but astonished the many people who had not imagined that a, um, “sculpture” of fruit on a wall \n",
      "could command such a price. Now the work’s aesthetic merit is being reinforced by the Guggenheim \n",
      "Museum in Manhattan, which is accepting it into its collection as an anonymous donation. “We are \n",
      "grateful recipients of the gift of ‘Comedian,’ a further demonstration of the artist’s deft connection \n",
      "to the history of modern art,” said the Guggenheim’s director, Richard Armstrong. “Beyond which, it \n",
      "offers little stress to our storage.”\n"
     ]
    }
   ],
   "source": [
    "nyt_article = '''Few art works sold in the past few years have drawn as much attention as “Comedian” \n",
    "by the Italian artist Maurizio Cattelan, in part because, despite its price and ironic humor, it is \n",
    "at its heart a banana that one tapes to a wall. The sly work’s simplicity enticed collectors to pay \n",
    "as much as $150,000 for it at a Miami art fair last fall, an act of connoisseurship that delighted \n",
    "them but astonished the many people who had not imagined that a, um, “sculpture” of fruit on a wall \n",
    "could command such a price. Now the work’s aesthetic merit is being reinforced by the Guggenheim \n",
    "Museum in Manhattan, which is accepting it into its collection as an anonymous donation. “We are \n",
    "grateful recipients of the gift of ‘Comedian,’ a further demonstration of the artist’s deft connection \n",
    "to the history of modern art,” said the Guggenheim’s director, Richard Armstrong. “Beyond which, it \n",
    "offers little stress to our storage.”'''\n",
    "print(nyt_article)"
   ]
  },
  {
   "cell_type": "markdown",
   "metadata": {},
   "source": [
    "Remember our math operations? Some of those aren't just for numbers! \n",
    "\n",
    "We can for example use the addition operation to combine two strings. Remember to add white spaces if necessary though!"
   ]
  },
  {
   "cell_type": "code",
   "execution_count": 14,
   "metadata": {},
   "outputs": [
    {
     "name": "stdout",
     "output_type": "stream",
     "text": [
      "Guidovan Rossum\n",
      "Guido van Rossum\n",
      "Hello, my name is Guido van Rossum\n"
     ]
    }
   ],
   "source": [
    "first_name = \"Guido\"\n",
    "last_name = \"van Rossum\"\n",
    "\n",
    "full_name1 = first_name + last_name\n",
    "full_name2 = first_name + \" \" + last_name\n",
    "\n",
    "print(full_name1)\n",
    "print(full_name2)\n",
    "\n",
    "print(\"Hello, my name is \" + full_name2)"
   ]
  },
  {
   "cell_type": "markdown",
   "metadata": {},
   "source": [
    "Sometimes we have to repeat a string multiple times, but might be feeling lazy or just don't want to make our code untidy by copy-pasting it multiple times"
   ]
  },
  {
   "cell_type": "code",
   "execution_count": 15,
   "metadata": {},
   "outputs": [
    {
     "name": "stdout",
     "output_type": "stream",
     "text": [
      "Halleluja Halleluja Halleluja Halleluja Halleluja Halleluja Halleluja \n"
     ]
    }
   ],
   "source": [
    "print(\"Halleluja \" * 7) "
   ]
  },
  {
   "cell_type": "markdown",
   "metadata": {},
   "source": [
    "Sometimes we have a string input that we need to transform into a integer/float or a number that we want to transform into a string."
   ]
  },
  {
   "cell_type": "code",
   "execution_count": 16,
   "metadata": {
    "scrolled": true
   },
   "outputs": [
    {
     "name": "stdout",
     "output_type": "stream",
     "text": [
      "Today's lecture will take approximately 225 minutes\n",
      "Volume: 18202.8\n"
     ]
    }
   ],
   "source": [
    "print(\"Today's lecture will take approximately \" + str(temp_length_lecture_duration) + \" minutes\")\n",
    "\n",
    "height = \"22\"\n",
    "volume = width * length * int(height)\n",
    "\n",
    "print(\"Volume: \" + str(volume)) # turn our number back into a string"
   ]
  },
  {
   "cell_type": "markdown",
   "metadata": {},
   "source": [
    "We can also use curly brackets to create longer string in which we insert nunbers or other values. This is especially useful when we have many values to insert."
   ]
  },
  {
   "cell_type": "code",
   "execution_count": 17,
   "metadata": {},
   "outputs": [
    {
     "name": "stdout",
     "output_type": "stream",
     "text": [
      "Hello my family name is van Rossum, but you can call me Guido. Did you know? \n",
      "The cuboid I am holding has a volume of 18202.8 units\n"
     ]
    }
   ],
   "source": [
    "text = \"\"\"Hello my family name is {}, but you can call me {}. Did you know? \n",
    "The cuboid I am holding has a volume of {} units\"\"\".format(last_name, first_name, volume)\n",
    "\n",
    "print(text)"
   ]
  },
  {
   "cell_type": "markdown",
   "metadata": {},
   "source": [
    "You can also give the values to be filled in names to make things more organised"
   ]
  },
  {
   "cell_type": "code",
   "execution_count": 18,
   "metadata": {},
   "outputs": [
    {
     "name": "stdout",
     "output_type": "stream",
     "text": [
      "Hello my family name is van Rossum, but you can call me Guido. Did you know? \n",
      "The cuboid I am holding has a volume of 18202.8 units\n"
     ]
    }
   ],
   "source": [
    "text = \"\"\"Hello my family name is {last}, but you can call me {first}. Did you know? \n",
    "The cuboid I am holding has a volume of {vol} units\"\"\".format(vol=volume, first=first_name, last=last_name)\n",
    "\n",
    "print(text)"
   ]
  },
  {
   "cell_type": "markdown",
   "metadata": {},
   "source": [
    "We can also do this:"
   ]
  },
  {
   "cell_type": "code",
   "execution_count": 19,
   "metadata": {},
   "outputs": [
    {
     "name": "stdout",
     "output_type": "stream",
     "text": [
      "Hello my family name is van Rossum, but you can call me Guido. Did you know? \n",
      "The cuboid I am holding has a volume of 18202.8 units\n"
     ]
    }
   ],
   "source": [
    "text = \"\"\"Hello my family name is {last}, but you can call me {first}. Did you know? \n",
    "The cuboid I am holding has a volume of {vol} units\"\"\"\n",
    "\n",
    "print(text.format(vol=volume, first=first_name, last=last_name))"
   ]
  },
  {
   "cell_type": "markdown",
   "metadata": {},
   "source": [
    "Sometimes we'd like to insert our values into the text directly instead of using `.format()`. We can use a feature thats only available in Python3 called the f-string. We just add a 'f' in front of the string and can directly insert values into the string"
   ]
  },
  {
   "cell_type": "code",
   "execution_count": 20,
   "metadata": {},
   "outputs": [
    {
     "name": "stdout",
     "output_type": "stream",
     "text": [
      "If your piece of land has a width of 19.7 meters and a length of 42 meters, then the surface area is 827.4 meters\n"
     ]
    }
   ],
   "source": [
    "print(f\"If your piece of land has a width of {width} meters and a \" +\n",
    "      f\"length of {length} meters, then the surface area is {width * length} meters\")"
   ]
  },
  {
   "cell_type": "markdown",
   "metadata": {},
   "source": [
    "## 1.5 Working with User Input\n",
    "Python provides the `input()` to ask the user for input. The user can enter a value that gets returned to our script and that we can then use as a variable. This can be very useful to make Python scripts interactive\n",
    "\n",
    "In this class of course, you will learn to make your code even easier to interact with from a user perspective, without requiring the people to have python installed or knowing how to execute a Python script."
   ]
  },
  {
   "cell_type": "code",
   "execution_count": 21,
   "metadata": {},
   "outputs": [
    {
     "name": "stdout",
     "output_type": "stream",
     "text": [
      "Welcome! What is your name?\n",
      "Hello !\n"
     ]
    }
   ],
   "source": [
    "user = input(\"Welcome! What is your name?\")\n",
    "print(f\"Hello {user}!\")"
   ]
  },
  {
   "cell_type": "markdown",
   "metadata": {},
   "source": [
    "Be careful though, the function will only return a string"
   ]
  },
  {
   "cell_type": "code",
   "execution_count": 122,
   "metadata": {},
   "outputs": [
    {
     "name": "stdout",
     "output_type": "stream",
     "text": [
      "How many bagels do we have have for the party?100\n"
     ]
    },
    {
     "ename": "TypeError",
     "evalue": "unsupported operand type(s) for //: 'str' and 'int'",
     "output_type": "error",
     "traceback": [
      "\u001b[0;31m---------------------------------------------------------------------------\u001b[0m",
      "\u001b[0;31mTypeError\u001b[0m                                 Traceback (most recent call last)",
      "\u001b[0;32m<ipython-input-122-e4c673336cda>\u001b[0m in \u001b[0;36m<module>\u001b[0;34m\u001b[0m\n\u001b[1;32m      1\u001b[0m \u001b[0mguests\u001b[0m \u001b[0;34m=\u001b[0m \u001b[0;36m34\u001b[0m\u001b[0;34m\u001b[0m\u001b[0;34m\u001b[0m\u001b[0m\n\u001b[1;32m      2\u001b[0m \u001b[0mbagels\u001b[0m \u001b[0;34m=\u001b[0m \u001b[0minput\u001b[0m\u001b[0;34m(\u001b[0m\u001b[0;34m\"How many bagels do we have have for the party?\"\u001b[0m\u001b[0;34m)\u001b[0m\u001b[0;34m\u001b[0m\u001b[0;34m\u001b[0m\u001b[0m\n\u001b[0;32m----> 3\u001b[0;31m \u001b[0mprint\u001b[0m\u001b[0;34m(\u001b[0m\u001b[0;34mf\"That leaves us with at least {bagels // guests} per person.\"\u001b[0m\u001b[0;34m)\u001b[0m \u001b[0;31m# causes an error\u001b[0m\u001b[0;34m\u001b[0m\u001b[0;34m\u001b[0m\u001b[0m\n\u001b[0m",
      "\u001b[0;31mTypeError\u001b[0m: unsupported operand type(s) for //: 'str' and 'int'"
     ]
    }
   ],
   "source": [
    "guests = 34\n",
    "bagels = input(\"How many bagels do we have have for the party?\")\n",
    "print(f\"That leaves us with at least {bagels // guests} per person.\") # causes an error"
   ]
  },
  {
   "cell_type": "markdown",
   "metadata": {},
   "source": [
    "Better:"
   ]
  },
  {
   "cell_type": "code",
   "execution_count": 123,
   "metadata": {},
   "outputs": [
    {
     "name": "stdout",
     "output_type": "stream",
     "text": [
      "How many bagels do we have have for the party?120\n",
      "That leaves us with at least 3 bagels per person.\n"
     ]
    }
   ],
   "source": [
    "guests = 34\n",
    "bagels = input(\"How many bagels do we have have for the party?\")\n",
    "print(f\"That leaves us with at least {int(bagels) // guests} bagels per person.\")"
   ]
  },
  {
   "cell_type": "markdown",
   "metadata": {},
   "source": [
    "Even better: we convert the variable when we read it in, so we don't have to remember formatting in the code."
   ]
  },
  {
   "cell_type": "code",
   "execution_count": 124,
   "metadata": {},
   "outputs": [
    {
     "name": "stdout",
     "output_type": "stream",
     "text": [
      "How many bagels do we have have for the party?120\n",
      "That leaves us with at least 3 bagels per person.\n"
     ]
    }
   ],
   "source": [
    "guests = 34\n",
    "bagels = int(input(\"How many bagels do we have have for the party?\"))\n",
    "print(f\"That leaves us with at least {bagels // guests} bagels per person.\")"
   ]
  },
  {
   "cell_type": "markdown",
   "metadata": {},
   "source": [
    "## 1.6 Booleans\n",
    "Numbers and strings are very important. But we a lot of programming involves using basic logic to make binary yes/no decisions. We can do this using booleans, pythons object types for representing logical values."
   ]
  },
  {
   "cell_type": "code",
   "execution_count": 125,
   "metadata": {},
   "outputs": [
    {
     "name": "stdout",
     "output_type": "stream",
     "text": [
      "True\n",
      "False\n"
     ]
    }
   ],
   "source": [
    "is_true = True\n",
    "is_false = False\n",
    "\n",
    "print(is_true)\n",
    "print(is_false)"
   ]
  },
  {
   "cell_type": "markdown",
   "metadata": {},
   "source": [
    "We can make logical deductions using `or` and `and` as logical operators on booleans"
   ]
  },
  {
   "cell_type": "code",
   "execution_count": 26,
   "metadata": {},
   "outputs": [
    {
     "name": "stdout",
     "output_type": "stream",
     "text": [
      "True\n",
      "False\n",
      "False\n",
      "False\n"
     ]
    }
   ],
   "source": [
    "print(True and True)\n",
    "print(True and False)\n",
    "print(False and True)\n",
    "print(False and False)"
   ]
  },
  {
   "cell_type": "code",
   "execution_count": 27,
   "metadata": {},
   "outputs": [
    {
     "name": "stdout",
     "output_type": "stream",
     "text": [
      "True\n",
      "True\n",
      "True\n",
      "False\n"
     ]
    }
   ],
   "source": [
    "print(True or True)\n",
    "print(True or False)\n",
    "print(False or True)\n",
    "print(False or False)"
   ]
  },
  {
   "cell_type": "markdown",
   "metadata": {},
   "source": [
    "We can of course also combine these:"
   ]
  },
  {
   "cell_type": "code",
   "execution_count": 28,
   "metadata": {},
   "outputs": [
    {
     "data": {
      "text/plain": [
       "True"
      ]
     },
     "execution_count": 28,
     "metadata": {},
     "output_type": "execute_result"
    }
   ],
   "source": [
    "(True and False) or True"
   ]
  },
  {
   "cell_type": "markdown",
   "metadata": {},
   "source": [
    "Just like we could call `int()` or `str()` we can use `bool()` to convert a variable into a boolean variable. 0 is transformed into `False` and any other number will be transformed into `True`"
   ]
  },
  {
   "cell_type": "code",
   "execution_count": 29,
   "metadata": {},
   "outputs": [
    {
     "name": "stdout",
     "output_type": "stream",
     "text": [
      "False\n",
      "True\n",
      "True\n",
      "True\n",
      "True\n",
      "True\n"
     ]
    }
   ],
   "source": [
    "print(bool(0))\n",
    "print(bool(1))\n",
    "print(bool(4))\n",
    "print(bool(184932))\n",
    "print(bool(-123))\n",
    "print(bool(0.1))"
   ]
  },
  {
   "cell_type": "markdown",
   "metadata": {},
   "source": [
    "But be careful some other values can not be easily translated into true false values and the results might not be intuitive:"
   ]
  },
  {
   "cell_type": "code",
   "execution_count": 30,
   "metadata": {
    "scrolled": true
   },
   "outputs": [
    {
     "name": "stdout",
     "output_type": "stream",
     "text": [
      "True\n",
      "False\n"
     ]
    }
   ],
   "source": [
    "print(bool(\"What will this turn into?\"))\n",
    "print(bool(\"\"))"
   ]
  },
  {
   "cell_type": "markdown",
   "metadata": {},
   "source": [
    "Things get more interesting when we can check for certain conditions that require strings or integers"
   ]
  },
  {
   "cell_type": "code",
   "execution_count": 31,
   "metadata": {},
   "outputs": [
    {
     "name": "stdout",
     "output_type": "stream",
     "text": [
      "False\n",
      "False\n",
      "True\n",
      "True\n"
     ]
    }
   ],
   "source": [
    "print(7 > 8)\n",
    "print(7 > 7)\n",
    "print(7 < 9)\n",
    "\n",
    "print(7 >= 7) and print(7 <= 7)\n"
   ]
  },
  {
   "cell_type": "markdown",
   "metadata": {},
   "source": [
    "We can also check for equalities and inequalities of values using double equal signs. Don't confuse these with single = which we use to change values."
   ]
  },
  {
   "cell_type": "code",
   "execution_count": 32,
   "metadata": {},
   "outputs": [
    {
     "name": "stdout",
     "output_type": "stream",
     "text": [
      "True\n",
      "True\n"
     ]
    }
   ],
   "source": [
    "print(\"My text\" == \"My text\")\n",
    "print(14 != 17)"
   ]
  },
  {
   "cell_type": "markdown",
   "metadata": {},
   "source": [
    "We can already build basic workflows with the tools we know so far"
   ]
  },
  {
   "cell_type": "code",
   "execution_count": 36,
   "metadata": {},
   "outputs": [
    {
     "name": "stdout",
     "output_type": "stream",
     "text": [
      "How much oil does your tanker carry? 1000\n",
      "Our tank can store the ship's oil: True\n"
     ]
    }
   ],
   "source": [
    "height = 22\n",
    "oil_tank_volume = width * length * 22\n",
    "\n",
    "user_oil_amount = int(input(\"How much oil does your tanker carry? \"))\n",
    "\n",
    "boolean_comparison = oil_tank_volume >= user_oil_amount \n",
    "\n",
    "print(f\"Our tank can store the ship's oil: {boolean_comparison}\")"
   ]
  },
  {
   "cell_type": "markdown",
   "metadata": {},
   "source": [
    "## 1.7 Lists\n",
    "So far we have only worked with individual variables to store information. But sometimes we want to work with longer chunks. For this we can use lists, which are exactly what the sound like:"
   ]
  },
  {
   "cell_type": "code",
   "execution_count": 34,
   "metadata": {},
   "outputs": [
    {
     "data": {
      "text/plain": [
       "['Bananas', 'Apples', 'Oranges']"
      ]
     },
     "execution_count": 34,
     "metadata": {},
     "output_type": "execute_result"
    }
   ],
   "source": [
    "shopping_list = [\"Bananas\", \"Apples\", \"Oranges\"]\n",
    "shopping_list"
   ]
  },
  {
   "cell_type": "markdown",
   "metadata": {},
   "source": [
    "In Python, lists can contain multiple object types"
   ]
  },
  {
   "cell_type": "code",
   "execution_count": 35,
   "metadata": {},
   "outputs": [
    {
     "data": {
      "text/plain": [
       "['Soy Milk', 42, 17.3, True]"
      ]
     },
     "execution_count": 35,
     "metadata": {},
     "output_type": "execute_result"
    }
   ],
   "source": [
    "mylist = [\"Soy Milk\", 42, 17.3, True]\n",
    "mylist"
   ]
  },
  {
   "cell_type": "markdown",
   "metadata": {},
   "source": [
    "We can join lists together using the addition operator"
   ]
  },
  {
   "cell_type": "code",
   "execution_count": 37,
   "metadata": {},
   "outputs": [
    {
     "data": {
      "text/plain": [
       "['Bananas', 'Apples', 'Oranges', 'Soy Milk', 42, 17.3, True]"
      ]
     },
     "execution_count": 37,
     "metadata": {},
     "output_type": "execute_result"
    }
   ],
   "source": [
    "my_big_list = shopping_list + mylist\n",
    "my_big_list"
   ]
  },
  {
   "cell_type": "markdown",
   "metadata": {},
   "source": [
    "And we can also multiply list values, similar as we did with strings"
   ]
  },
  {
   "cell_type": "code",
   "execution_count": 38,
   "metadata": {},
   "outputs": [
    {
     "data": {
      "text/plain": [
       "['Bananas', 'Apples', 'Oranges', 'Soy Milk', 42, 17.3, True]"
      ]
     },
     "execution_count": 38,
     "metadata": {},
     "output_type": "execute_result"
    }
   ],
   "source": [
    "my_big_list"
   ]
  },
  {
   "cell_type": "code",
   "execution_count": 39,
   "metadata": {},
   "outputs": [
    {
     "data": {
      "text/plain": [
       "['Bananas',\n",
       " 'Apples',\n",
       " 'Oranges',\n",
       " 'Soy Milk',\n",
       " 42,\n",
       " 17.3,\n",
       " True,\n",
       " 'Bananas',\n",
       " 'Apples',\n",
       " 'Oranges',\n",
       " 'Soy Milk',\n",
       " 42,\n",
       " 17.3,\n",
       " True,\n",
       " 'Bananas',\n",
       " 'Apples',\n",
       " 'Oranges',\n",
       " 'Soy Milk',\n",
       " 42,\n",
       " 17.3,\n",
       " True]"
      ]
     },
     "execution_count": 39,
     "metadata": {},
     "output_type": "execute_result"
    }
   ],
   "source": [
    "my_big_list * 3"
   ]
  },
  {
   "cell_type": "markdown",
   "metadata": {},
   "source": [
    "Lists can also contain other lists"
   ]
  },
  {
   "cell_type": "code",
   "execution_count": 40,
   "metadata": {},
   "outputs": [
    {
     "data": {
      "text/plain": [
       "[['Apples', 5], ['Bananas', 2], ['Soy Milk', 1]]"
      ]
     },
     "execution_count": 40,
     "metadata": {},
     "output_type": "execute_result"
    }
   ],
   "source": [
    "nested_list = [[\"Apples\",5],[\"Bananas\",2],[\"Soy Milk\", 1]]\n",
    "nested_list"
   ]
  },
  {
   "cell_type": "markdown",
   "metadata": {},
   "source": [
    "Consider indenting your longer lists to keep them readable"
   ]
  },
  {
   "cell_type": "code",
   "execution_count": 41,
   "metadata": {},
   "outputs": [
    {
     "data": {
      "text/plain": [
       "[['Apples', 5],\n",
       " ['Bananas', 2],\n",
       " ['Soy Milk', 1],\n",
       " ['Oranges', 9],\n",
       " ['Aperol Spritz', 2],\n",
       " ['Sparkling water', 2],\n",
       " ['Prosecco', 3]]"
      ]
     },
     "execution_count": 41,
     "metadata": {},
     "output_type": "execute_result"
    }
   ],
   "source": [
    "nested_list = [\n",
    "                [\"Apples\",5],\n",
    "                [\"Bananas\",2],\n",
    "                [\"Soy Milk\", 1],\n",
    "                [\"Oranges\", 9],\n",
    "                [\"Aperol Spritz\", 2],\n",
    "                [\"Sparkling water\",2],\n",
    "                [\"Prosecco\",3]\n",
    "              ]\n",
    "nested_list"
   ]
  },
  {
   "cell_type": "markdown",
   "metadata": {},
   "source": [
    "We can access individual items using the index of the list. This is also called a subscript. But be careful, other than you might expect, indeces of items always start at 0 in Python.\n",
    "\n",
    "To get the first item we have to use the 0 index, not 1"
   ]
  },
  {
   "cell_type": "code",
   "execution_count": 42,
   "metadata": {
    "scrolled": true
   },
   "outputs": [
    {
     "name": "stdout",
     "output_type": "stream",
     "text": [
      "['Bananas', 'Apples', 'Oranges', 'Soy Milk', 42, 17.3, True]\n",
      "Bananas\n",
      "Apples\n"
     ]
    }
   ],
   "source": [
    "print(my_big_list) # for reference\n",
    "print(my_big_list[0])\n",
    "print(my_big_list[1])"
   ]
  },
  {
   "cell_type": "markdown",
   "metadata": {},
   "source": [
    "Notice how the following is the same. We are initially creating a list with just one value (three) in it and then subscripting it to get the first value which of course is also three. Comparing that with the integer value three yields a True response. Notice how the square brackets can both be used to create a list, while also subscripting a list, depending on the context."
   ]
  },
  {
   "cell_type": "code",
   "execution_count": 43,
   "metadata": {},
   "outputs": [
    {
     "data": {
      "text/plain": [
       "True"
      ]
     },
     "execution_count": 43,
     "metadata": {},
     "output_type": "execute_result"
    }
   ],
   "source": [
    "[3][0] == 3"
   ]
  },
  {
   "cell_type": "markdown",
   "metadata": {},
   "source": [
    "Comparing the list itself with the value 3 is not the same and we get a False response. That is because we are comparing a list with an integer which are inherently different values, even though the list contains a three."
   ]
  },
  {
   "cell_type": "code",
   "execution_count": 44,
   "metadata": {},
   "outputs": [
    {
     "data": {
      "text/plain": [
       "False"
      ]
     },
     "execution_count": 44,
     "metadata": {},
     "output_type": "execute_result"
    }
   ],
   "source": [
    "[3] == 3"
   ]
  },
  {
   "cell_type": "markdown",
   "metadata": {},
   "source": [
    "Maybe we want the last item of a list, but don't know how long exactly. We can use negative subscripts to index from the back of the list. As 0 equals -0, the index from the back starts from 0."
   ]
  },
  {
   "cell_type": "code",
   "execution_count": 45,
   "metadata": {},
   "outputs": [
    {
     "data": {
      "text/plain": [
       "['Bananas', 'Apples', 'Oranges', 'Soy Milk', 42, 17.3, True]"
      ]
     },
     "execution_count": 45,
     "metadata": {},
     "output_type": "execute_result"
    }
   ],
   "source": [
    "my_big_list"
   ]
  },
  {
   "cell_type": "code",
   "execution_count": 46,
   "metadata": {},
   "outputs": [
    {
     "data": {
      "text/plain": [
       "True"
      ]
     },
     "execution_count": 46,
     "metadata": {},
     "output_type": "execute_result"
    }
   ],
   "source": [
    "my_big_list[-1]"
   ]
  },
  {
   "cell_type": "markdown",
   "metadata": {},
   "source": [
    "Apply multiple slices if the list is nested (i.e. it contains other lists)"
   ]
  },
  {
   "cell_type": "code",
   "execution_count": 47,
   "metadata": {},
   "outputs": [
    {
     "data": {
      "text/plain": [
       "'Sparkling water'"
      ]
     },
     "execution_count": 47,
     "metadata": {},
     "output_type": "execute_result"
    }
   ],
   "source": [
    "nested_list[5][0]"
   ]
  },
  {
   "cell_type": "markdown",
   "metadata": {},
   "source": [
    "We can also get \"slices\" of lists. Watch out here, that the second index you name is NOT included"
   ]
  },
  {
   "cell_type": "code",
   "execution_count": 48,
   "metadata": {},
   "outputs": [
    {
     "data": {
      "text/plain": [
       "['Bananas', 'Apples', 'Oranges', 'Soy Milk', 42, 17.3, True]"
      ]
     },
     "execution_count": 48,
     "metadata": {},
     "output_type": "execute_result"
    }
   ],
   "source": [
    "my_big_list"
   ]
  },
  {
   "cell_type": "code",
   "execution_count": 49,
   "metadata": {},
   "outputs": [
    {
     "name": "stdout",
     "output_type": "stream",
     "text": [
      "[['Bananas', 2], ['Soy Milk', 1], ['Oranges', 9], ['Aperol Spritz', 2]]\n"
     ]
    }
   ],
   "source": [
    "print(nested_list[1:5])"
   ]
  },
  {
   "cell_type": "markdown",
   "metadata": {},
   "source": [
    "If you want to select all items after or before a certain index, then you can just leave of the values before or after colons blank"
   ]
  },
  {
   "cell_type": "code",
   "execution_count": 50,
   "metadata": {
    "scrolled": true
   },
   "outputs": [
    {
     "name": "stdout",
     "output_type": "stream",
     "text": [
      "['Bananas', 'Apples', 'Oranges', 'Soy Milk', 42, 17.3, True]\n",
      "['Apples', 'Oranges', 'Soy Milk', 42, 17.3, True]\n",
      "['Bananas', 'Apples', 'Oranges', 'Soy Milk', 42]\n"
     ]
    }
   ],
   "source": [
    "print(my_big_list) # for reference\n",
    "print(my_big_list[1:]) # returns everything except the first item\n",
    "print(my_big_list[:-2]) # returns everything until the second last index"
   ]
  },
  {
   "cell_type": "markdown",
   "metadata": {},
   "source": [
    "Another way to add a value to a list is by using `.append()`"
   ]
  },
  {
   "cell_type": "code",
   "execution_count": 51,
   "metadata": {},
   "outputs": [
    {
     "data": {
      "text/plain": [
       "['Bananas', 'Apples', 'Oranges', 'Soy Milk', 42, 17.3, True, 'Philippe']"
      ]
     },
     "execution_count": 51,
     "metadata": {},
     "output_type": "execute_result"
    }
   ],
   "source": [
    "my_big_list.append(\"Philippe\")\n",
    "my_big_list"
   ]
  },
  {
   "cell_type": "markdown",
   "metadata": {},
   "source": [
    "This also works with nested lists"
   ]
  },
  {
   "cell_type": "code",
   "execution_count": 52,
   "metadata": {},
   "outputs": [
    {
     "data": {
      "text/plain": [
       "[['Apples', 5],\n",
       " ['Bananas', 2],\n",
       " ['Soy Milk', 1],\n",
       " ['Oranges', 9],\n",
       " ['Aperol Spritz', 2],\n",
       " ['Sparkling water', 2],\n",
       " ['Prosecco', 3],\n",
       " ['Beer', 2]]"
      ]
     },
     "execution_count": 52,
     "metadata": {},
     "output_type": "execute_result"
    }
   ],
   "source": [
    "nested_list.append([\"Beer\",2])\n",
    "nested_list"
   ]
  },
  {
   "cell_type": "markdown",
   "metadata": {},
   "source": [
    "We can also remove values by naming them explicitly, this means we don't have to know a value's index"
   ]
  },
  {
   "cell_type": "code",
   "execution_count": 53,
   "metadata": {},
   "outputs": [
    {
     "name": "stdout",
     "output_type": "stream",
     "text": [
      "['Bananas', 'Apples', 'Oranges', 'Soy Milk', 42, 17.3, True, 'Philippe']\n",
      "['Bananas', 'Apples', 'Oranges', 'Soy Milk', 42, 17.3, True]\n"
     ]
    }
   ],
   "source": [
    "print(my_big_list) # for reference\n",
    "my_big_list.remove(\"Philippe\")\n",
    "print(my_big_list)"
   ]
  },
  {
   "cell_type": "markdown",
   "metadata": {},
   "source": [
    "You have to still be specific when it comes to nested lists:"
   ]
  },
  {
   "cell_type": "code",
   "execution_count": 54,
   "metadata": {},
   "outputs": [
    {
     "name": "stdout",
     "output_type": "stream",
     "text": [
      "[['Apples', 5], ['Bananas', 2], ['Soy Milk', 1], ['Oranges', 9], ['Aperol Spritz', 2], ['Sparkling water', 2], ['Prosecco', 3], ['Beer', 2]]\n",
      "[['Apples', 5], ['Bananas', 2], ['Soy Milk', 1], ['Oranges', 9], ['Aperol Spritz', 2], ['Sparkling water', 2], ['Prosecco', 3]]\n"
     ]
    }
   ],
   "source": [
    "print(nested_list) # for reference\n",
    "nested_list.remove([\"Beer\",2])\n",
    "print(nested_list)"
   ]
  },
  {
   "cell_type": "markdown",
   "metadata": {},
   "source": [
    "If you want to create a string from multiple values in a list, then you can do so by using `.join()` on a string that you want to combine the items with"
   ]
  },
  {
   "cell_type": "code",
   "execution_count": 55,
   "metadata": {},
   "outputs": [
    {
     "name": "stdout",
     "output_type": "stream",
     "text": [
      "I need to go and buy Bananas, Apples, Oranges\n"
     ]
    }
   ],
   "source": [
    "merged_list = \", \".join(shopping_list)\n",
    "print(f\"I need to go and buy {merged_list}\")"
   ]
  },
  {
   "cell_type": "markdown",
   "metadata": {},
   "source": [
    "Notice that we can also use subscripting to CHANGE a value"
   ]
  },
  {
   "cell_type": "code",
   "execution_count": 56,
   "metadata": {},
   "outputs": [
    {
     "name": "stdout",
     "output_type": "stream",
     "text": [
      "2\n",
      "[0, 3, 4]\n"
     ]
    }
   ],
   "source": [
    "x = [0,2,4]\n",
    "print(x[1])\n",
    "x[1] = 3\n",
    "print(x)"
   ]
  },
  {
   "cell_type": "markdown",
   "metadata": {},
   "source": [
    "## 1.8 Tuples\n",
    "Tuples are like lists, except that you can't make changes to them after you create them. This can for example be useful when you already know that you the values shouldn't change.\n",
    "\n",
    "In general, you should rather use tuples than lists where you can."
   ]
  },
  {
   "cell_type": "code",
   "execution_count": 57,
   "metadata": {
    "scrolled": true
   },
   "outputs": [
    {
     "name": "stdout",
     "output_type": "stream",
     "text": [
      "True\n"
     ]
    }
   ],
   "source": [
    "fast_defined_tuple = \"Guido\", \"van Rossum\"\n",
    "clear_tuple_definition = (\"Guido\", \"van Rossum\")\n",
    "print(fast_defined_tuple == clear_tuple_definition) # same outcome"
   ]
  },
  {
   "cell_type": "markdown",
   "metadata": {},
   "source": [
    "When we try to add a value to a tuple we get an error"
   ]
  },
  {
   "cell_type": "code",
   "execution_count": 58,
   "metadata": {},
   "outputs": [
    {
     "ename": "AttributeError",
     "evalue": "'tuple' object has no attribute 'append'",
     "output_type": "error",
     "traceback": [
      "\u001b[0;31m---------------------------------------------------------------------------\u001b[0m",
      "\u001b[0;31mAttributeError\u001b[0m                            Traceback (most recent call last)",
      "\u001b[0;32m<ipython-input-58-4c1157d09cbb>\u001b[0m in \u001b[0;36m<module>\u001b[0;34m\u001b[0m\n\u001b[1;32m      1\u001b[0m \u001b[0mshopping_list_tuple\u001b[0m \u001b[0;34m=\u001b[0m \u001b[0;34m(\u001b[0m\u001b[0;34m\"eggs\"\u001b[0m\u001b[0;34m,\u001b[0m \u001b[0;34m\"cheese\"\u001b[0m\u001b[0;34m,\u001b[0m \u001b[0;34m\"ham\"\u001b[0m\u001b[0;34m)\u001b[0m\u001b[0;34m\u001b[0m\u001b[0;34m\u001b[0m\u001b[0m\n\u001b[0;32m----> 2\u001b[0;31m \u001b[0mshopping_list_tuple\u001b[0m\u001b[0;34m.\u001b[0m\u001b[0mappend\u001b[0m\u001b[0;34m(\u001b[0m\u001b[0;34m\"bread\"\u001b[0m\u001b[0;34m)\u001b[0m \u001b[0;31m# this causes an error\u001b[0m\u001b[0;34m\u001b[0m\u001b[0;34m\u001b[0m\u001b[0m\n\u001b[0m",
      "\u001b[0;31mAttributeError\u001b[0m: 'tuple' object has no attribute 'append'"
     ]
    }
   ],
   "source": [
    "shopping_list_tuple = (\"eggs\", \"cheese\", \"ham\")\n",
    "shopping_list_tuple.append(\"bread\") # this causes an error"
   ]
  },
  {
   "cell_type": "markdown",
   "metadata": {},
   "source": [
    "We can also not remove values from a tuple"
   ]
  },
  {
   "cell_type": "code",
   "execution_count": 59,
   "metadata": {},
   "outputs": [
    {
     "ename": "AttributeError",
     "evalue": "'tuple' object has no attribute 'remove'",
     "output_type": "error",
     "traceback": [
      "\u001b[0;31m---------------------------------------------------------------------------\u001b[0m",
      "\u001b[0;31mAttributeError\u001b[0m                            Traceback (most recent call last)",
      "\u001b[0;32m<ipython-input-59-3ed583cb7e3e>\u001b[0m in \u001b[0;36m<module>\u001b[0;34m\u001b[0m\n\u001b[0;32m----> 1\u001b[0;31m \u001b[0mshopping_list_tuple\u001b[0m\u001b[0;34m.\u001b[0m\u001b[0mremove\u001b[0m\u001b[0;34m(\u001b[0m\u001b[0;34m\"ham\"\u001b[0m\u001b[0;34m)\u001b[0m \u001b[0;31m# this causes an error\u001b[0m\u001b[0;34m\u001b[0m\u001b[0;34m\u001b[0m\u001b[0m\n\u001b[0m",
      "\u001b[0;31mAttributeError\u001b[0m: 'tuple' object has no attribute 'remove'"
     ]
    }
   ],
   "source": [
    "shopping_list_tuple.remove(\"ham\") # this causes an error"
   ]
  },
  {
   "cell_type": "markdown",
   "metadata": {},
   "source": [
    "## 1.9 Sets\n",
    "Sets are like lists, but they contain unique values. We define sets similarly to lists, but with curly braces"
   ]
  },
  {
   "cell_type": "code",
   "execution_count": 60,
   "metadata": {},
   "outputs": [
    {
     "data": {
      "text/plain": [
       "{'Anna', 'Charline', 'Lisa'}"
      ]
     },
     "execution_count": 60,
     "metadata": {},
     "output_type": "execute_result"
    }
   ],
   "source": [
    "soccer_team = {\"Lisa\", \"Anna\",\"Charline\"}\n",
    "soccer_team"
   ]
  },
  {
   "cell_type": "markdown",
   "metadata": {},
   "source": [
    "Adding a value to the set that is already in it, will not cause a duplicate to show up"
   ]
  },
  {
   "cell_type": "code",
   "execution_count": 61,
   "metadata": {},
   "outputs": [
    {
     "data": {
      "text/plain": [
       "{'Anna', 'Charline', 'Emma', 'Lisa'}"
      ]
     },
     "execution_count": 61,
     "metadata": {},
     "output_type": "execute_result"
    }
   ],
   "source": [
    "soccer_team.add(\"Emma\")\n",
    "soccer_team.add(\"Anna\")\n",
    "soccer_team"
   ]
  },
  {
   "cell_type": "markdown",
   "metadata": {},
   "source": [
    "We can remove values as with lists"
   ]
  },
  {
   "cell_type": "code",
   "execution_count": 62,
   "metadata": {},
   "outputs": [
    {
     "data": {
      "text/plain": [
       "{'Charline', 'Emma', 'Lisa'}"
      ]
     },
     "execution_count": 62,
     "metadata": {},
     "output_type": "execute_result"
    }
   ],
   "source": [
    "soccer_team.remove(\"Anna\")\n",
    "soccer_team"
   ]
  },
  {
   "cell_type": "markdown",
   "metadata": {},
   "source": [
    " Sets can be very useful to compare two groups of values. We can for example get values that are in one set but not the other"
   ]
  },
  {
   "cell_type": "code",
   "execution_count": 63,
   "metadata": {},
   "outputs": [
    {
     "name": "stdout",
     "output_type": "stream",
     "text": [
      "{'Emily', 'Alessandra', 'Julia'}\n",
      "{'Emma', 'Lisa'}\n"
     ]
    }
   ],
   "source": [
    "basketball_team = {\"Emily\",\"Charline\",\"Alessandra\",\"Julia\"}\n",
    "\n",
    "basketball_but_not_soccer = basketball_team.difference(soccer_team)\n",
    "print(basketball_but_not_soccer)\n",
    "\n",
    "soccer_but_not_basketball = soccer_team.difference(basketball_team)\n",
    "print(soccer_but_not_basketball)"
   ]
  },
  {
   "cell_type": "markdown",
   "metadata": {},
   "source": [
    "We can also get items that are in both sets or that are explicitly not in both sets"
   ]
  },
  {
   "cell_type": "code",
   "execution_count": 64,
   "metadata": {},
   "outputs": [
    {
     "name": "stdout",
     "output_type": "stream",
     "text": [
      "{'Charline'}\n",
      "{'Emma', 'Lisa', 'Alessandra', 'Julia', 'Emily'}\n"
     ]
    }
   ],
   "source": [
    "in_both = soccer_team.intersection(basketball_team)\n",
    "print(in_both)\n",
    "\n",
    "not_in_both = soccer_team.symmetric_difference(basketball_team)\n",
    "print(not_in_both)"
   ]
  },
  {
   "cell_type": "markdown",
   "metadata": {},
   "source": [
    "Lastly, we can also get all items together, but without duplicates"
   ]
  },
  {
   "cell_type": "code",
   "execution_count": 65,
   "metadata": {},
   "outputs": [
    {
     "data": {
      "text/plain": [
       "{'Alessandra', 'Charline', 'Emily', 'Emma', 'Julia', 'Lisa'}"
      ]
     },
     "execution_count": 65,
     "metadata": {},
     "output_type": "execute_result"
    }
   ],
   "source": [
    "all_players = soccer_team.union(basketball_team) # order does not matter here\n",
    "all_players"
   ]
  },
  {
   "cell_type": "markdown",
   "metadata": {},
   "source": [
    "## 1.10 Dictionaries\n",
    "Dictionaries are another data format in Python. Different than lists, tuples or sets, they don't just have values, but have key-value pairs. We also define them with curly brackets, but we first specify the key and then the value. Key-value pairs are separated by commas.\n",
    "\n",
    "Keys and values can both be any type of variable type (int, float, string, bool), but the keys have to be unique in the dictionary."
   ]
  },
  {
   "cell_type": "code",
   "execution_count": 66,
   "metadata": {},
   "outputs": [
    {
     "data": {
      "text/plain": [
       "{'China': 157, 'Japan': 61, 'Indonesia': 113, 'Iran': 106, 'Turkey': 77}"
      ]
     },
     "execution_count": 66,
     "metadata": {},
     "output_type": "execute_result"
    }
   ],
   "source": [
    "earthquakes_by_country = {\"China\": 157, \n",
    "                          \"Japan\":61,\n",
    "                          \"Indonesia\": 113,\n",
    "                          \"Iran\":106,\n",
    "                          \"Turkey\":77} \n",
    "earthquakes_by_country"
   ]
  },
  {
   "cell_type": "markdown",
   "metadata": {},
   "source": [
    "We can access values by subscripting the dictionary as such"
   ]
  },
  {
   "cell_type": "code",
   "execution_count": 67,
   "metadata": {},
   "outputs": [
    {
     "data": {
      "text/plain": [
       "157"
      ]
     },
     "execution_count": 67,
     "metadata": {},
     "output_type": "execute_result"
    }
   ],
   "source": [
    "earthquakes_by_country[\"China\"]"
   ]
  },
  {
   "cell_type": "markdown",
   "metadata": {},
   "source": [
    "But we need to be sure the value is in there, otherwise there will be an error"
   ]
  },
  {
   "cell_type": "code",
   "execution_count": 68,
   "metadata": {},
   "outputs": [
    {
     "ename": "KeyError",
     "evalue": "'Switzerland'",
     "output_type": "error",
     "traceback": [
      "\u001b[0;31m---------------------------------------------------------------------------\u001b[0m",
      "\u001b[0;31mKeyError\u001b[0m                                  Traceback (most recent call last)",
      "\u001b[0;32m<ipython-input-68-5b9c09ef92e2>\u001b[0m in \u001b[0;36m<module>\u001b[0;34m\u001b[0m\n\u001b[0;32m----> 1\u001b[0;31m \u001b[0mearthquakes_by_country\u001b[0m\u001b[0;34m[\u001b[0m\u001b[0;34m\"Switzerland\"\u001b[0m\u001b[0;34m]\u001b[0m\u001b[0;34m\u001b[0m\u001b[0;34m\u001b[0m\u001b[0m\n\u001b[0m",
      "\u001b[0;31mKeyError\u001b[0m: 'Switzerland'"
     ]
    }
   ],
   "source": [
    "earthquakes_by_country[\"Switzerland\"]"
   ]
  },
  {
   "cell_type": "markdown",
   "metadata": {},
   "source": [
    "If we are not sure, then we can use `.get()` and if the value is not found then \"None\" is returned"
   ]
  },
  {
   "cell_type": "code",
   "execution_count": 69,
   "metadata": {},
   "outputs": [
    {
     "name": "stdout",
     "output_type": "stream",
     "text": [
      "157\n",
      "None\n"
     ]
    }
   ],
   "source": [
    "print(earthquakes_by_country.get(\"China\"))\n",
    "print(earthquakes_by_country.get(\"Switzerland\"))"
   ]
  },
  {
   "cell_type": "markdown",
   "metadata": {},
   "source": [
    "Dictionaries can also be nested and are a great way to bundle information if we have a lot of information at hand and want to store in an organised manner"
   ]
  },
  {
   "cell_type": "code",
   "execution_count": 70,
   "metadata": {},
   "outputs": [
    {
     "data": {
      "text/plain": [
       "{'China': {'Earthquakes': 157,\n",
       "  'State Leader': 'Xi Jinping',\n",
       "  'Population': 1393000000},\n",
       " 'Indonesia': {'Earthquakes': 113,\n",
       "  'State Leader': 'Joko Widodo',\n",
       "  'Population': 267700000},\n",
       " 'Japan': {'Earthquakes': 61,\n",
       "  'State Leader': 'Shinzo Abe',\n",
       "  'Population': 126500000},\n",
       " 'Iran': {'Earthquakes': 106,\n",
       "  'State Leader': 'Hassan Rouhani',\n",
       "  'Population': 81800000}}"
      ]
     },
     "execution_count": 70,
     "metadata": {},
     "output_type": "execute_result"
    }
   ],
   "source": [
    "country_stats = {\n",
    "    \"China\": {\"Earthquakes\": 157, \"State Leader\": \"Xi Jinping\", \"Population\": 1393000000},\n",
    "    \"Indonesia\": {\"Earthquakes\": 113, \"State Leader\": \"Joko Widodo\", \"Population\": 267700000},\n",
    "    \"Japan\": {\"Earthquakes\": 61, \"State Leader\": \"Shinzo Abe\", \"Population\": 126500000},\n",
    "    \"Iran\": {\"Earthquakes\": 106, \"State Leader\": \"Hassan Rouhani\", \"Population\": 81800000}\n",
    "}\n",
    "country_stats"
   ]
  },
  {
   "cell_type": "markdown",
   "metadata": {},
   "source": [
    "You can remove values from a dictionary using `.pop()` and add items using by subscripting them and using the key of the key-value pair you want to add"
   ]
  },
  {
   "cell_type": "code",
   "execution_count": 71,
   "metadata": {},
   "outputs": [
    {
     "data": {
      "text/plain": [
       "{'China': {'Earthquakes': 157,\n",
       "  'State Leader': 'Xi Jinping',\n",
       "  'Population': 1393000000},\n",
       " 'Japan': {'Earthquakes': 61,\n",
       "  'State Leader': 'Shinzo Abe',\n",
       "  'Population': 126500000},\n",
       " 'Iran': {'Earthquakes': 106,\n",
       "  'State Leader': 'Hassan Rouhani',\n",
       "  'Population': 81800000},\n",
       " 'Turkey': {'Earthquakes': 77,\n",
       "  'State Leader': 'Recep Tayyip Erdoğan',\n",
       "  'Population': 82000000}}"
      ]
     },
     "execution_count": 71,
     "metadata": {},
     "output_type": "execute_result"
    }
   ],
   "source": [
    "country_stats.pop(\"Indonesia\")\n",
    "country_stats[\"Turkey\"] = {\"Earthquakes\": 77, \"State Leader\": \"Recep Tayyip Erdoğan\", \"Population\": 82000000}\n",
    "country_stats"
   ]
  },
  {
   "cell_type": "markdown",
   "metadata": {},
   "source": [
    "## 1.11 Length, Sum, Round and Type\n",
    "`len()` and `sum()` are two in-built methods of python that you will likely use quite often.\n",
    "\n",
    "`len()` tells you how many items are in a variablea and `sum()` sums up the values, if possible"
   ]
  },
  {
   "cell_type": "code",
   "execution_count": 72,
   "metadata": {},
   "outputs": [
    {
     "name": "stdout",
     "output_type": "stream",
     "text": [
      "{'Emma', 'Lisa', 'Charline'}\n",
      "3\n"
     ]
    }
   ],
   "source": [
    "print(soccer_team)\n",
    "print(len(soccer_team))"
   ]
  },
  {
   "cell_type": "code",
   "execution_count": 73,
   "metadata": {},
   "outputs": [
    {
     "data": {
      "text/plain": [
       "5"
      ]
     },
     "execution_count": 73,
     "metadata": {},
     "output_type": "execute_result"
    }
   ],
   "source": [
    "len(\"Guido\")"
   ]
  },
  {
   "cell_type": "code",
   "execution_count": 74,
   "metadata": {},
   "outputs": [
    {
     "data": {
      "text/plain": [
       "2"
      ]
     },
     "execution_count": 74,
     "metadata": {},
     "output_type": "execute_result"
    }
   ],
   "source": [
    "len([\"guido\",\"anna\"])"
   ]
  },
  {
   "cell_type": "markdown",
   "metadata": {},
   "source": [
    "Be careful with calling `len()` on nested variables though. Only the first level is considered"
   ]
  },
  {
   "cell_type": "code",
   "execution_count": 75,
   "metadata": {},
   "outputs": [
    {
     "data": {
      "text/plain": [
       "4"
      ]
     },
     "execution_count": 75,
     "metadata": {},
     "output_type": "execute_result"
    }
   ],
   "source": [
    "len(country_stats)"
   ]
  },
  {
   "cell_type": "code",
   "execution_count": 76,
   "metadata": {},
   "outputs": [
    {
     "data": {
      "text/plain": [
       "10"
      ]
     },
     "execution_count": 76,
     "metadata": {},
     "output_type": "execute_result"
    }
   ],
   "source": [
    "sum([1,2,3,4])"
   ]
  },
  {
   "cell_type": "markdown",
   "metadata": {},
   "source": [
    "Round can be useful to round number because you only need a certain amount of after-comma digits"
   ]
  },
  {
   "cell_type": "code",
   "execution_count": 77,
   "metadata": {},
   "outputs": [
    {
     "name": "stdout",
     "output_type": "stream",
     "text": [
      "0.3333333333333333\n",
      "0.33\n"
     ]
    }
   ],
   "source": [
    "print(1/3)\n",
    "print(round(1/3,2))"
   ]
  },
  {
   "cell_type": "markdown",
   "metadata": {},
   "source": [
    "If you are not sure what the type of a variable is the you can check with `type()`"
   ]
  },
  {
   "cell_type": "code",
   "execution_count": 78,
   "metadata": {
    "scrolled": true
   },
   "outputs": [
    {
     "name": "stdout",
     "output_type": "stream",
     "text": [
      "<class 'set'>\n",
      "<class 'dict'>\n",
      "<class 'int'>\n",
      "<class 'str'>\n"
     ]
    }
   ],
   "source": [
    "print(type(soccer_team))\n",
    "print(type(country_stats))\n",
    "print(type(length))\n",
    "print(type(full_name2))"
   ]
  },
  {
   "cell_type": "markdown",
   "metadata": {},
   "source": [
    "Remember how we used `==` to compare values? If we want to compare object types we use `is`"
   ]
  },
  {
   "cell_type": "code",
   "execution_count": 79,
   "metadata": {},
   "outputs": [
    {
     "name": "stdout",
     "output_type": "stream",
     "text": [
      "True\n",
      "False\n"
     ]
    }
   ],
   "source": [
    "print(type(\"a random text\") is type(\"other random string\"))\n",
    "print(type(1.0) is type(\"a random string\"))"
   ]
  },
  {
   "cell_type": "markdown",
   "metadata": {},
   "source": [
    "Notice that variables can have the same value but not the same type"
   ]
  },
  {
   "cell_type": "code",
   "execution_count": 80,
   "metadata": {},
   "outputs": [
    {
     "name": "stdout",
     "output_type": "stream",
     "text": [
      "False\n",
      "True\n"
     ]
    }
   ],
   "source": [
    "type(7)\n",
    "type(7.0)\n",
    "\n",
    "print(type(7) is type(7.0))\n",
    "print(7 == 7.0)\n"
   ]
  },
  {
   "cell_type": "markdown",
   "metadata": {},
   "source": [
    "## 1.12 More logical statements `in` and `not`\n",
    "\n",
    "With `in` you check whether a value is in a set or list"
   ]
  },
  {
   "cell_type": "code",
   "execution_count": 81,
   "metadata": {},
   "outputs": [
    {
     "name": "stdout",
     "output_type": "stream",
     "text": [
      "False\n",
      "True\n"
     ]
    }
   ],
   "source": [
    "print(\"Alessandra\" in soccer_team)\n",
    "print(\"Alessandra\" in basketball_team)"
   ]
  },
  {
   "cell_type": "markdown",
   "metadata": {},
   "source": [
    "With `not` you can negate a boolean value"
   ]
  },
  {
   "cell_type": "code",
   "execution_count": 82,
   "metadata": {},
   "outputs": [
    {
     "name": "stdout",
     "output_type": "stream",
     "text": [
      "False\n",
      "True\n",
      "True\n",
      "False\n",
      "True\n"
     ]
    }
   ],
   "source": [
    "print(not True)\n",
    "print(not False)\n",
    "\n",
    "print(not \"Alessandra\" in soccer_team)\n",
    "print(not \"Alessandra\" in basketball_team)\n",
    "\n",
    "print(not False and not False)"
   ]
  },
  {
   "cell_type": "markdown",
   "metadata": {},
   "source": [
    "## Detour: Why are some of my numbers formatted in a weird way?\n",
    "[Click here for the source and to read more](https://floating-point-gui.de/basic/)\n",
    "\n",
    "Sometimes when you do math in Python, you get a very unexpected result with many after comma digits like this:"
   ]
  },
  {
   "cell_type": "code",
   "execution_count": 4,
   "metadata": {},
   "outputs": [
    {
     "data": {
      "text/plain": [
       "0.19999999999999996"
      ]
     },
     "execution_count": 4,
     "metadata": {},
     "output_type": "execute_result"
    }
   ],
   "source": [
    "1.2-1.0"
   ]
  },
  {
   "cell_type": "markdown",
   "metadata": {},
   "source": [
    "### Wow whats that? Why isn't the answer 1.0?\n",
    "\n",
    "Internally, computers use a format (binary floating-point) that cannot accurately represent a number like 0.1, 0.2 or 0.3 at all. When the code is compiled or interpreted, your “0.1” is already rounded to the nearest number in that format, which results in a small rounding error even before the calculation happens.\n",
    "\n",
    "### Why do computers use such a 'stupid' system?\n",
    "It’s not stupid, just different. Decimal numbers cannot accurately represent a number like 1/3, so you have to round to something like 0.33 - and you don’t expect 0.33 + 0.33 + 0.33 to add up to 1, either - do you?\n",
    "\n",
    "Computers use binary numbers because they’re faster at dealing with those, and because for most calculations, a tiny error in the 17th decimal place doesn’t matter at all since the numbers you work with aren’t round (or that precise) anyway.\n",
    "\n",
    "### What can I do to avoid this problem?\n",
    "That depends on what kind of calculations you’re doing.\n",
    "\n",
    "If you really need your results to add up exactly, especially when you work with money: use a special decimal datatype.\n",
    "If you just don’t want to see all those extra decimal places: simply format your result rounded to a fixed number of decimal places when displaying it.\n",
    "If you have no decimal datatype available, an alternative is to work with integers, e.g. do money calculations entirely in cents. But this is more work and has some drawbacks.\n",
    "\n",
    "### Why do other calculations like 0.1 + 0.4 work correctly?\n",
    "\n",
    "In that case, the result (0.5) can be represented exactly as a floating-point number, and it’s possible for rounding errors in the input numbers to cancel each other out - But that can’t necessarily be relied upon (e.g. when those two numbers were stored in differently sized floating point representations first, the rounding errors might not offset each other).\n",
    "\n",
    "In other cases like 0.1 + 0.3, the result actually isn’t really 0.4, but close enough that 0.4 is the shortest number that is closer to the result than to any other floating-point number. Many languages then display that number instead of converting the actual result back to the closest decimal fraction.\n"
   ]
  },
  {
   "cell_type": "markdown",
   "metadata": {},
   "source": [
    "# 2. Advanced Python\n",
    "Ok, you now know the most common data types in Python, how you can apply operations on them, and even create small logical flows with input collected by the user. You are halfway there to knowing all there is to program most applications.\n",
    "\n",
    "Lets now get to the features of Python that will allow you to build more complicated work flows and make things much more efficient."
   ]
  },
  {
   "cell_type": "markdown",
   "metadata": {},
   "source": [
    "## 2.1 If Statements\n",
    "If statements check for a condition and then depending on whether it is true executes a block of code. If the condition is not true then you can specify an 'else' clause to execute an alternative block of code.\n",
    "\n",
    "The general structure of an if-else statement looks like this"
   ]
  },
  {
   "cell_type": "code",
   "execution_count": null,
   "metadata": {},
   "outputs": [],
   "source": [
    "if your_condition:\n",
    "    # if true then this code is executed\n",
    "else:\n",
    "    # if condition isnt true, do this"
   ]
  },
  {
   "cell_type": "markdown",
   "metadata": {},
   "source": [
    "An example"
   ]
  },
  {
   "cell_type": "code",
   "execution_count": 86,
   "metadata": {},
   "outputs": [
    {
     "name": "stdout",
     "output_type": "stream",
     "text": [
      "Welcome to the theater, how old are you?10\n",
      "You qualify for the childrens discount and may pay 20 CHF less\n"
     ]
    }
   ],
   "source": [
    "user_age = int(input(\"Welcome to the theater, how old are you?\"))\n",
    "price = 50\n",
    "\n",
    "if user_age >= 18:\n",
    "    print(\"You qualify for the regular entry fee\")\n",
    "else:\n",
    "    price -= 20\n",
    "    print(\"You qualify for the childrens discount and may pay 20 CHF less\")"
   ]
  },
  {
   "cell_type": "markdown",
   "metadata": {},
   "source": [
    "By omitting the else clause you can also decide for nothing to happen if the condition is not fulfilled. "
   ]
  },
  {
   "cell_type": "code",
   "execution_count": 87,
   "metadata": {},
   "outputs": [
    {
     "name": "stdout",
     "output_type": "stream",
     "text": [
      "Are you a member of the theater club? (y/n)y\n",
      "You qualify for an additional discount of 15 CHF\n",
      "Your final price is 15 CHF\n"
     ]
    }
   ],
   "source": [
    "theater_club_member = input(\"Are you a member of the theater club? (y/n)\")\n",
    "\n",
    "if theater_club_member not in [\"y\",\"n\"]:\n",
    "    print(\"Please enter a valid answer (y/n)\")\n",
    "else:\n",
    "    if theater_club_member == \"y\":\n",
    "        price -= 15\n",
    "        print(\"You qualify for an additional discount of 15 CHF\")\n",
    "\n",
    "print(f\"Your final price is {price} CHF\")"
   ]
  },
  {
   "cell_type": "markdown",
   "metadata": {},
   "source": [
    "You can also specify any number of additional conditions to check for using the 'elif' clause. "
   ]
  },
  {
   "cell_type": "code",
   "execution_count": 88,
   "metadata": {},
   "outputs": [
    {
     "name": "stdout",
     "output_type": "stream",
     "text": [
      "Welcome to our clothing store, please enter your height in cm to receive a size recommendation167\n",
      "We recommend size S for you. Enjoy your visit\n"
     ]
    }
   ],
   "source": [
    "user_height = int(input(\"Welcome to our clothing store, please enter your height in cm to receive a size recommendation\"))\n",
    "\n",
    "if user_height > 190:\n",
    "    size = \"XL\"\n",
    "elif user_height > 180:\n",
    "    size = \"L\"\n",
    "elif user_height > 170:\n",
    "    size = \"M\"\n",
    "elif user_height > 160:\n",
    "    size = \"S\"\n",
    "else:\n",
    "    size = \"XS\"\n",
    "    \n",
    "print(f\"We recommend size {size} for you. Enjoy your visit\")"
   ]
  },
  {
   "cell_type": "markdown",
   "metadata": {},
   "source": [
    "## 2.2 While loops\n",
    "While loops allow you to run a block of code on repeatedly as long as the specified condition is fulfilled. The general structure looks like this"
   ]
  },
  {
   "cell_type": "code",
   "execution_count": null,
   "metadata": {},
   "outputs": [],
   "source": [
    "while your_condition:\n",
    "    # code to be run if condition true"
   ]
  },
  {
   "cell_type": "code",
   "execution_count": 90,
   "metadata": {},
   "outputs": [
    {
     "name": "stdout",
     "output_type": "stream",
     "text": [
      "0\n",
      "1\n",
      "2\n",
      "3\n",
      "4\n",
      "5\n",
      "6\n",
      "7\n",
      "8\n",
      "9\n",
      "Finished at 10\n"
     ]
    }
   ],
   "source": [
    "i = 0\n",
    "\n",
    "while i<10:\n",
    "    print(i)\n",
    "    i += 1\n",
    "print(f\"Finished at {i}\")"
   ]
  },
  {
   "cell_type": "code",
   "execution_count": 91,
   "metadata": {},
   "outputs": [
    {
     "name": "stdout",
     "output_type": "stream",
     "text": [
      "You currently have 1 items in your cart, would you like to add another item to your cart? (y/n)y\n",
      "You currently have 2 items in your cart, would you like to add another item to your cart? (y/n)y\n",
      "You currently have 3 items in your cart, would you like to add another item to your cart? (y/n)n\n",
      "Total items in cart: 3, the final price is 14.97 CHF\n"
     ]
    }
   ],
   "source": [
    "user_input = \"y\"\n",
    "\n",
    "items_in_cart = 0\n",
    "\n",
    "while user_input == \"y\":\n",
    "    items_in_cart += 1\n",
    "    user_input = input(f\"You currently have {items_in_cart} items in your cart, would you like to add another item to your cart? (y/n)\")\n",
    "        \n",
    "print(f\"Total items in cart: {items_in_cart}, the final price is {round(items_in_cart * 4.99,2)} CHF\")\n",
    "    \n",
    "    "
   ]
  },
  {
   "cell_type": "markdown",
   "metadata": {},
   "source": [
    "Be careful, if you make a mistake in your condition the code might never exit the while loop. You can stop this by interrupting the kernel running the program (Kernel > Interrupt). In hydrogen you can find this option in the bottom bar of Atom on the left side."
   ]
  },
  {
   "cell_type": "code",
   "execution_count": null,
   "metadata": {},
   "outputs": [],
   "source": [
    "i = 0\n",
    "\n",
    "while i<10:\n",
    "    # i += 1\n",
    "print(f\"Finished at {i}\")"
   ]
  },
  {
   "cell_type": "markdown",
   "metadata": {},
   "source": [
    "## 2.3 For loops\n",
    "\n",
    "For loops iterate over an iterable object (e.g. a list or a string) and allow you to use the current element of the iterable object to be used in a block of code that is repeatedly executed. The name you choose for the iterable value is completely up to you."
   ]
  },
  {
   "cell_type": "code",
   "execution_count": null,
   "metadata": {},
   "outputs": [],
   "source": [
    "for a_variable_name_of_your_choice in iterable_item:\n",
    "    # code to execute"
   ]
  },
  {
   "cell_type": "code",
   "execution_count": 94,
   "metadata": {
    "scrolled": true
   },
   "outputs": [
    {
     "name": "stdout",
     "output_type": "stream",
     "text": [
      "Welcome to Dr. Philipps office Anna, please have a seat.\n",
      "Welcome to Dr. Philipps office Philippe, please have a seat.\n",
      "Welcome to Dr. Philipps office Cathrine, please have a seat.\n",
      "Welcome to Dr. Philipps office Isabelle, please have a seat.\n",
      "Welcome to Dr. Philipps office Giacomo, please have a seat.\n"
     ]
    }
   ],
   "source": [
    "patients = [\"Anna\", \"Philippe\", \"Cathrine\", \"Isabelle\", \"Giacomo\"]\n",
    "\n",
    "for patient in patients:\n",
    "    print(f\"Welcome to Dr. Philipps office {patient}, please have a seat.\")\n",
    "    "
   ]
  },
  {
   "cell_type": "code",
   "execution_count": 95,
   "metadata": {},
   "outputs": [
    {
     "data": {
      "text/plain": [
       "{'Sandy': {'items': 10, 'item_price': 2.5, 'total_price': 25.0},\n",
       " 'Alessandra': {'items': 2, 'item_price': 100.0, 'total_price': 200.0},\n",
       " 'Lucas': {'items': 6, 'item_price': 3.99, 'total_price': 23.94},\n",
       " 'Pierre': {'items': 3, 'item_price': 65.0, 'total_price': 195.0}}"
      ]
     },
     "execution_count": 95,
     "metadata": {},
     "output_type": "execute_result"
    }
   ],
   "source": [
    "customers = [\"Sandy\",\"Alessandra\",\"Lucas\",\"Pierre\"]\n",
    "\n",
    "customer_data = {\n",
    "                \"Sandy\": {\"items\": 10, \"item_price\": 2.50},\n",
    "                \"Alessandra\": {\"items\": 2, \"item_price\": 100.00},\n",
    "                \"Lucas\": {\"items\": 6, \"item_price\": 3.99},\n",
    "                \"Pierre\": {\"items\": 3, \"item_price\": 65.00},\n",
    "                }\n",
    "\n",
    "for customer in customers:\n",
    "    single_user_data = customer_data[customer]\n",
    "    single_user_data[\"total_price\"] = single_user_data[\"items\"] * single_user_data[\"item_price\"]\n",
    "    \n",
    "customer_data"
   ]
  },
  {
   "cell_type": "markdown",
   "metadata": {},
   "source": [
    "If you want to repeat something a specific number of times then you don't have to use a while loop and increment a counting integer, you also don't need to define a list with `[1,2,3,...,n]`. You can use `range(starting_number, ending_number, steps_to_increment_by)` like this. Notice that the last digit is not considered (similar to slicing a string where the stopping index is not included). By default, range starts at 0"
   ]
  },
  {
   "cell_type": "code",
   "execution_count": 96,
   "metadata": {},
   "outputs": [
    {
     "name": "stdout",
     "output_type": "stream",
     "text": [
      "0\n",
      "1\n",
      "2\n",
      "3\n",
      "4\n",
      "5\n",
      "6\n",
      "7\n",
      "8\n",
      "9\n"
     ]
    }
   ],
   "source": [
    "for i in range(10):\n",
    "    print(i)"
   ]
  },
  {
   "cell_type": "code",
   "execution_count": 97,
   "metadata": {},
   "outputs": [
    {
     "name": "stdout",
     "output_type": "stream",
     "text": [
      "2\n",
      "19\n",
      "36\n",
      "53\n",
      "70\n",
      "87\n",
      "104\n",
      "121\n"
     ]
    }
   ],
   "source": [
    "for i in range(2,123,17):\n",
    "    print(i)"
   ]
  },
  {
   "cell_type": "markdown",
   "metadata": {},
   "source": [
    "Maybe you don't actually need the variable that is being iterated through. In that case you can either just not use that variable or use a character that makes this obvious to others reading your code."
   ]
  },
  {
   "cell_type": "code",
   "execution_count": 98,
   "metadata": {},
   "outputs": [
    {
     "name": "stdout",
     "output_type": "stream",
     "text": [
      "Hello\n",
      "Hello\n",
      "Hello\n",
      "Hello\n",
      "Hello\n"
     ]
    }
   ],
   "source": [
    "for _ in range(5):\n",
    "    print(\"Hello\")"
   ]
  },
  {
   "cell_type": "markdown",
   "metadata": {},
   "source": [
    "There are many ways to arrive at a solution in Python. This technically also works, but isn't structured as clearly"
   ]
  },
  {
   "cell_type": "code",
   "execution_count": 99,
   "metadata": {},
   "outputs": [
    {
     "name": "stdout",
     "output_type": "stream",
     "text": [
      "Hello\n",
      "Hello\n",
      "Hello\n",
      "Hello\n",
      "Hello\n"
     ]
    }
   ],
   "source": [
    "for i in [\"Hello\"]*5:\n",
    "    print(i)"
   ]
  },
  {
   "cell_type": "markdown",
   "metadata": {},
   "source": [
    "A lot of objects are iterable in python. For example when you use a string in a for loop the individual characters are iterated over"
   ]
  },
  {
   "cell_type": "code",
   "execution_count": 100,
   "metadata": {},
   "outputs": [
    {
     "name": "stdout",
     "output_type": "stream",
     "text": [
      "H\n",
      "e\n",
      "l\n",
      "l\n",
      "o\n",
      " \n",
      "w\n",
      "o\n",
      "r\n",
      "l\n",
      "d\n"
     ]
    }
   ],
   "source": [
    "for char in \"Hello world\":\n",
    "    print(char)"
   ]
  },
  {
   "cell_type": "markdown",
   "metadata": {},
   "source": [
    "## 2.4 Break & Continue\n",
    "You can use `break` to exit a loop. You can for example use this to exit a loop if a special additional condition is fulfilled."
   ]
  },
  {
   "cell_type": "code",
   "execution_count": 101,
   "metadata": {
    "scrolled": true
   },
   "outputs": [
    {
     "name": "stdout",
     "output_type": "stream",
     "text": [
      "0\n",
      "1\n",
      "2\n",
      "3\n",
      "4\n",
      "5\n",
      "Done\n"
     ]
    }
   ],
   "source": [
    "for i in range(10):\n",
    "    print(i)\n",
    "    if i == 5:\n",
    "        break\n",
    "        \n",
    "print(\"Done\")"
   ]
  },
  {
   "cell_type": "markdown",
   "metadata": {},
   "source": [
    "A short recap on using types and is as well as `not` to make the following cell easier to understand"
   ]
  },
  {
   "cell_type": "code",
   "execution_count": 102,
   "metadata": {},
   "outputs": [
    {
     "name": "stdout",
     "output_type": "stream",
     "text": [
      "<class 'float'>\n",
      "<class 'float'>\n",
      "<class 'str'>\n",
      "True\n"
     ]
    }
   ],
   "source": [
    "print(type(2.5))\n",
    "print(type(2.0))\n",
    "print(type(\"Apple\"))\n",
    "print(type(\"Apple\") is not type(2.0))"
   ]
  },
  {
   "cell_type": "code",
   "execution_count": 103,
   "metadata": {},
   "outputs": [
    {
     "name": "stdout",
     "output_type": "stream",
     "text": [
      "Abort! There is an error in the item list\n",
      "Total cost: 20.284 CHF\n"
     ]
    }
   ],
   "source": [
    "# Lets say our store offers a discount on any item that costs more than 5 CHF and \n",
    "#  we want to calculate the final price at the checkout. If there is any issue with\n",
    "#  the prices in the list, then we want the system to stop immediately\n",
    "\n",
    "item_prices_of_shopping_basket = [2.50, 6.50, 2.50, 0.50, 11.98, \"Apple\", 2.50, 7.48]\n",
    "\n",
    "total = 0\n",
    "\n",
    "for item_price in item_prices_of_shopping_basket:\n",
    "    if type(item_price) is not type(2.0):\n",
    "        print(\"Abort! There is an error in the item list\")\n",
    "        break\n",
    "\n",
    "    if item_price > 5:\n",
    "        item_price = item_price * 0.8\n",
    "    total += item_price\n",
    "\n",
    "print(f\"Total cost: {total} CHF\")\n",
    "        "
   ]
  },
  {
   "cell_type": "markdown",
   "metadata": {},
   "source": [
    "`continue` skips the remainder of the loop and continues with the next iteration"
   ]
  },
  {
   "cell_type": "code",
   "execution_count": 104,
   "metadata": {
    "scrolled": true
   },
   "outputs": [
    {
     "name": "stdout",
     "output_type": "stream",
     "text": [
      "Done\n"
     ]
    }
   ],
   "source": [
    "for i in range(10):\n",
    "    if i == 5:\n",
    "        continue\n",
    "        \n",
    "print(\"Done\") # Notice the difference to the same cell with 'break' instead of 'continue'"
   ]
  },
  {
   "cell_type": "code",
   "execution_count": 105,
   "metadata": {},
   "outputs": [
    {
     "name": "stdout",
     "output_type": "stream",
     "text": [
      "There is an issue with the item. Item is being skipped.\n",
      "There is an issue with the item. Item is being skipped.\n",
      "Total cost: 28.768 CHF, we had issues with these items: ['Apple', 'Bananas']\n"
     ]
    }
   ],
   "source": [
    "# Same scenario as above, but we decide that we just want to skip the item in question\n",
    "\n",
    "item_prices_of_shopping_basket = [2.50, 6.50, 2.50, 0.50, 11.98, \"Apple\", 2.50, 7.48,\"Bananas\"]\n",
    "\n",
    "total = 0\n",
    "issue_item = []\n",
    "\n",
    "for item_price in item_prices_of_shopping_basket:\n",
    "    if type(item_price) != type(1.0):\n",
    "        issue_item += [item_price]\n",
    "        print(\"There is an issue with the item. Item is being skipped.\")\n",
    "        continue\n",
    "\n",
    "    if item_price > 5:\n",
    "        item_price = item_price * 0.8\n",
    "    total += item_price\n",
    "\n",
    "print(f\"Total cost: {total} CHF, we had issues with these items: {issue_item}\")\n",
    "        "
   ]
  },
  {
   "cell_type": "markdown",
   "metadata": {},
   "source": [
    "## 2.5 Functions\n",
    "### 2.5.1 Basics\n",
    "Functions seem new, but surprise! You've used them several times to far (e.g. `print` or `len`)! They are basically shortcuts for previously defined blocks of code.\n",
    "\n",
    "The very basic structure looks like this:\n",
    "<br>\n",
    "`\n",
    "def your_function_name():\n",
    "    # code you want to run\n",
    "`\n",
    "\n",
    "You have to make sure that the code you want to run as part of the function is indented by four empty spaces (or a tab)"
   ]
  },
  {
   "cell_type": "code",
   "execution_count": 106,
   "metadata": {},
   "outputs": [],
   "source": [
    "def say_hello():\n",
    "    user_name = input(\"Hello what is your name?\")\n",
    "    print(f\"Hello {user_name}!\")"
   ]
  },
  {
   "cell_type": "markdown",
   "metadata": {},
   "source": [
    "What we just did is called *defining* a function. If we want to execute it then we just write its name and add `()` to its end. This lets Python know that we actually want to execute the function. In the programming-lingo we also say that we \"call\" or \"invoke\" a function. Lets invoke our say_hello function"
   ]
  },
  {
   "cell_type": "code",
   "execution_count": 107,
   "metadata": {},
   "outputs": [
    {
     "data": {
      "text/plain": [
       "<function __main__.say_hello()>"
      ]
     },
     "execution_count": 107,
     "metadata": {},
     "output_type": "execute_result"
    }
   ],
   "source": [
    "say_hello # this happens if we don't add brackets to the end"
   ]
  },
  {
   "cell_type": "code",
   "execution_count": 108,
   "metadata": {
    "scrolled": true
   },
   "outputs": [
    {
     "name": "stdout",
     "output_type": "stream",
     "text": [
      "Hello what is your name?Guido\n",
      "Hello Guido!\n"
     ]
    }
   ],
   "source": [
    "say_hello()"
   ]
  },
  {
   "cell_type": "markdown",
   "metadata": {},
   "source": [
    "Pay attention when you add variables in the function. If they are defined in the function, then they won't be accessible outside of it"
   ]
  },
  {
   "cell_type": "code",
   "execution_count": 109,
   "metadata": {},
   "outputs": [
    {
     "name": "stdout",
     "output_type": "stream",
     "text": [
      "Your result is 100\n"
     ]
    }
   ],
   "source": [
    "def multiply_ten_by_itself():\n",
    "    my_result = 10\n",
    "    my_result *= 10\n",
    "    print(f\"Your result is {my_result}\")\n",
    "    \n",
    "multiply_ten_by_itself()"
   ]
  },
  {
   "cell_type": "code",
   "execution_count": 110,
   "metadata": {},
   "outputs": [
    {
     "ename": "NameError",
     "evalue": "name 'my_result' is not defined",
     "output_type": "error",
     "traceback": [
      "\u001b[0;31m---------------------------------------------------------------------------\u001b[0m",
      "\u001b[0;31mNameError\u001b[0m                                 Traceback (most recent call last)",
      "\u001b[0;32m<ipython-input-110-56d199019a86>\u001b[0m in \u001b[0;36m<module>\u001b[0;34m\u001b[0m\n\u001b[0;32m----> 1\u001b[0;31m \u001b[0mprint\u001b[0m\u001b[0;34m(\u001b[0m\u001b[0mmy_result\u001b[0m\u001b[0;34m)\u001b[0m \u001b[0;31m# the variable wont be found\u001b[0m\u001b[0;34m\u001b[0m\u001b[0;34m\u001b[0m\u001b[0m\n\u001b[0m",
      "\u001b[0;31mNameError\u001b[0m: name 'my_result' is not defined"
     ]
    }
   ],
   "source": [
    "print(my_result) # the variable wont be found"
   ]
  },
  {
   "cell_type": "markdown",
   "metadata": {},
   "source": [
    "### 2.5.2 Arguments and parameters\n",
    "Arguments are values we can pass into a function that can be used as variable input to its operations"
   ]
  },
  {
   "cell_type": "code",
   "execution_count": 111,
   "metadata": {},
   "outputs": [],
   "source": [
    "def multiply_by_itself(number):\n",
    "    result = number * number\n",
    "    print(result)"
   ]
  },
  {
   "cell_type": "code",
   "execution_count": 112,
   "metadata": {},
   "outputs": [
    {
     "name": "stdout",
     "output_type": "stream",
     "text": [
      "9\n"
     ]
    }
   ],
   "source": [
    "multiply_by_itself(3)"
   ]
  },
  {
   "cell_type": "code",
   "execution_count": 113,
   "metadata": {},
   "outputs": [
    {
     "name": "stdout",
     "output_type": "stream",
     "text": [
      "50\n"
     ]
    }
   ],
   "source": [
    "def multiply_two_numbers(x,y):\n",
    "    print(x*y)\n",
    "    \n",
    "multiply_two_numbers(5,10)"
   ]
  },
  {
   "cell_type": "code",
   "execution_count": 114,
   "metadata": {
    "scrolled": true
   },
   "outputs": [
    {
     "name": "stdout",
     "output_type": "stream",
     "text": [
      "The final price is 4.640000000000001\n"
     ]
    }
   ],
   "source": [
    "# say you want to calculate the cost of various scooter trips with following information\n",
    "\n",
    "scooter_trip = {\"brand\": \"Lime\", \"unlock_fee\": 1, \"cost_per_minute\": 0.4, \"trip_minutes\": 12, \"discount\": 0.2}\n",
    "\n",
    "# We would calculate the cost like this for example\n",
    "\n",
    "price = scooter_trip[\"unlock_fee\"]\n",
    "price += scooter_trip[\"cost_per_minute\"] * scooter_trip[\"trip_minutes\"]\n",
    "price *= (1 - scooter_trip[\"discount\"])\n",
    "print(f\"The final price is {price}\")\n"
   ]
  },
  {
   "cell_type": "code",
   "execution_count": 115,
   "metadata": {},
   "outputs": [
    {
     "name": "stdout",
     "output_type": "stream",
     "text": [
      "The final price is 4.64 CHF\n"
     ]
    }
   ],
   "source": [
    "# We could package this as a function like this\n",
    "\n",
    "def calc_scooter_trip_cost():\n",
    "    price = scooter_trip[\"unlock_fee\"]\n",
    "    price += scooter_trip[\"cost_per_minute\"] * scooter_trip[\"trip_minutes\"]\n",
    "    price *= (1 - scooter_trip[\"discount\"])\n",
    "    price = round(price,2)\n",
    "    print(f\"The final price is {price} CHF\")\n",
    "    \n",
    "calc_scooter_trip_cost()\n",
    "\n",
    "# but this would be very inefficient as we could only calculate the cost for one trip"
   ]
  },
  {
   "cell_type": "code",
   "execution_count": 116,
   "metadata": {},
   "outputs": [
    {
     "name": "stdout",
     "output_type": "stream",
     "text": [
      "The final price is 4.64 CHF\n"
     ]
    }
   ],
   "source": [
    "# lets turn the dictionary into a function argument where different values with a \n",
    "# similar structure can be inputted (or passed) to the function\n",
    "\n",
    "def calc_scooter_trip_cost(trip_data):\n",
    "    price = trip_data[\"unlock_fee\"]\n",
    "    price += trip_data[\"cost_per_minute\"] * trip_data[\"trip_minutes\"]\n",
    "    price *= (1 - trip_data[\"discount\"])\n",
    "    price = round(price,2)\n",
    "    print(f\"The final price is {price} CHF\")\n",
    "    \n",
    "# we can now call the function like this\n",
    "calc_scooter_trip_cost(scooter_trip)"
   ]
  },
  {
   "cell_type": "code",
   "execution_count": 117,
   "metadata": {},
   "outputs": [
    {
     "name": "stdout",
     "output_type": "stream",
     "text": [
      "The final price is 4.64 CHF\n",
      "The final price is 5.7 CHF\n",
      "The final price is 1.68 CHF\n"
     ]
    }
   ],
   "source": [
    "# Imagine we have a list of hundreds of scooter trips, we could just calculate them in a few\n",
    "# lines of code like this\n",
    "\n",
    "scooter_trips = [{\"brand\": \"Lime\", \"unlock_fee\": 1, \"cost_per_minute\": 0.4, \"trip_minutes\": 12, \"discount\": 0.2},\n",
    "                 {\"brand\": \"Voi\", \"unlock_fee\": 0, \"cost_per_minute\": 0.3, \"trip_minutes\": 19, \"discount\": 0.0},\n",
    "                 {\"brand\": \"Tier\", \"unlock_fee\": 1, \"cost_per_minute\": 0.2, \"trip_minutes\": 7, \"discount\": 0.3}]\n",
    "\n",
    "for trip in scooter_trips:\n",
    "    calc_scooter_trip_cost(trip)"
   ]
  },
  {
   "cell_type": "markdown",
   "metadata": {},
   "source": [
    "### 2.5.3 Return values\n",
    "Consider the last function we built. Its quite useful, but maybe we want to use the input for a further step and instead of just having the function print something we want to get the final price as a float. \n",
    "\n",
    "We can use return values for this, which are values which the function gives us back as a variable, just as you know so far from the `input()` function."
   ]
  },
  {
   "cell_type": "code",
   "execution_count": 118,
   "metadata": {},
   "outputs": [
    {
     "name": "stdout",
     "output_type": "stream",
     "text": [
      "The total cost for all scooter trips is 12.02 CHF\n"
     ]
    }
   ],
   "source": [
    "def calc_scooter_trip_cost(trip_data):\n",
    "    price = trip_data[\"unlock_fee\"]\n",
    "    price += trip_data[\"cost_per_minute\"] * trip_data[\"trip_minutes\"]\n",
    "    price *= (1 - trip_data[\"discount\"])\n",
    "    price = round(price,2)\n",
    "    # print(f\"The final price is {price} CHF\")\n",
    "    return price\n",
    "\n",
    "all_costs = []\n",
    "\n",
    "for trip in scooter_trips:\n",
    "    single_cost = calc_scooter_trip_cost(trip)\n",
    "    all_costs += [single_cost]\n",
    "    \n",
    "print(f\"The total cost for all scooter trips is {sum(all_costs)} CHF\")\n",
    "    "
   ]
  },
  {
   "cell_type": "markdown",
   "metadata": {},
   "source": [
    "The return keyword terminates a function, code after it will not be executed anymore"
   ]
  },
  {
   "cell_type": "code",
   "execution_count": 119,
   "metadata": {},
   "outputs": [
    {
     "data": {
      "text/plain": [
       "4.64"
      ]
     },
     "execution_count": 119,
     "metadata": {},
     "output_type": "execute_result"
    }
   ],
   "source": [
    "def calc_scooter_trip_cost(trip_data):\n",
    "    price = trip_data[\"unlock_fee\"]\n",
    "    price += trip_data[\"cost_per_minute\"] * trip_data[\"trip_minutes\"]\n",
    "    price *= (1 - trip_data[\"discount\"])\n",
    "    price = round(price,2)\n",
    "    \n",
    "    return price\n",
    "\n",
    "    print(f\"The final price is {price} CHF\") # this won't be executed\n",
    "    \n",
    "calc_scooter_trip_cost(scooter_trips[0]) "
   ]
  },
  {
   "cell_type": "markdown",
   "metadata": {},
   "source": [
    "### 2.5.4 Specifying parameters\n",
    "Sometimes when there are several parameters, we don't always remember the right order in which we have to specify them. In this case we can just make sure that the values that we pass are used correctly by naming the argument names explicitly:"
   ]
  },
  {
   "cell_type": "code",
   "execution_count": 120,
   "metadata": {},
   "outputs": [
    {
     "name": "stdout",
     "output_type": "stream",
     "text": [
      "5\n",
      "-5\n",
      "5\n"
     ]
    }
   ],
   "source": [
    "def subtract(x, y):\n",
    "    print(x-y)\n",
    "    \n",
    "subtract(10,5)\n",
    "subtract(5,10)\n",
    "subtract(y=5,x=10)"
   ]
  },
  {
   "cell_type": "markdown",
   "metadata": {},
   "source": [
    "### 2.5.5 Default parameters\n",
    "Sometimes a certain parameter *might* be different, but most of the time it will be the same and we don't want to be required to enter it *every* time we use the function. That's a good case for default parameters. We define these together with function by just adding the default value behind the argument in question."
   ]
  },
  {
   "cell_type": "code",
   "execution_count": 121,
   "metadata": {},
   "outputs": [
    {
     "name": "stdout",
     "output_type": "stream",
     "text": [
      "Hello Guido\n",
      "Gruezi Guido\n"
     ]
    }
   ],
   "source": [
    "def say_hello(name, greeting_prefix=\"Hello\"):\n",
    "    greetings = greeting_prefix + \" \" + name\n",
    "    print(greetings)\n",
    "    \n",
    "say_hello(\"Guido\")\n",
    "say_hello(\"Guido\", greeting_prefix=\"Gruezi\")"
   ]
  },
  {
   "cell_type": "markdown",
   "metadata": {},
   "source": [
    "# Concluding remarks\n",
    "Congratulations! You already know enough Python to write many complicated programmes. Surprisingly, there really isn't that much more too it except some more fancy structures that make coding easier, but don't add anything new that you could not build with what we covered in this notebook.\n",
    "\n",
    "You will often make mistakes, scratch your head at why your code isn't working, and come across problems where you're not quite sure how to solve them with the building blocks we've learnt so far. And you're not alone. Anbody who programs has stumbled across many problems along their way and a lot will even have had the same problem as you did. \n",
    "\n",
    "Luckily programmers are very friendly people and enjoy helping each other out on the internet. Many problems and solutions are posted online so you just have to google your questions (remember to add python in the search) and you will most likely find resourcs online. A big part about learning to program is to know how to formulate and google for questions. One of the most popular pages where programmers ask and answer question is [Stackoverflow](https://stackoverflow.com/), by the end of this course you will most likely have visited that website several dozens of times!"
   ]
  },
  {
   "cell_type": "markdown",
   "metadata": {},
   "source": [
    "# 3. Some practice problems\n",
    "Try solving these on your own before looking at the solution"
   ]
  },
  {
   "cell_type": "markdown",
   "metadata": {},
   "source": [
    "## 3.1 Largest Number\n",
    "Write a function that takes 3 integers as an input (num1, num2, num3) and prints out the largest of the numbers"
   ]
  },
  {
   "cell_type": "code",
   "execution_count": null,
   "metadata": {},
   "outputs": [],
   "source": [
    "def largest_number(num1, num2, num3):\n",
    "    if (num1 >= num2) and (num1 >= num3):\n",
    "       largest = num1\n",
    "    elif (num2 >= num1) and (num2 >= num3):\n",
    "       largest = num2\n",
    "    else:\n",
    "       largest = num3\n",
    "\n",
    "    print(f\"The largest number is {largest}\")\n",
    "    \n",
    "largest_number(-1,4,2)"
   ]
  },
  {
   "cell_type": "markdown",
   "metadata": {},
   "source": [
    "## 3.2 Prime Numbers\n",
    "Write a function that takes in two arguments \"lower\" and \"upper\" and prints all prime numbers in this interval (including the limits themselves)"
   ]
  },
  {
   "cell_type": "code",
   "execution_count": null,
   "metadata": {},
   "outputs": [],
   "source": [
    "def prime_numbers(lower, upper):\n",
    "    for num in range(lower, upper + 1):\n",
    "        \n",
    "        # all prime numbers are greater than 1\n",
    "        if num > 1:\n",
    "           for i in range(2, num):\n",
    "               if (num % i) == 0:\n",
    "                   break\n",
    "           else:\n",
    "               print(num)\n",
    "\n",
    "prime_numbers(1000,1100)"
   ]
  },
  {
   "cell_type": "markdown",
   "metadata": {},
   "source": [
    "## 3.3 Print all keys of a dictionary\n",
    "Write a function that takes a dictionary (parameter called d) as an input and first prints out all of the keys and then all of the values of the key-value pairs."
   ]
  },
  {
   "cell_type": "code",
   "execution_count": null,
   "metadata": {},
   "outputs": [],
   "source": [
    "def print_dict(d):\n",
    "    print(\"Keys:\")\n",
    "    for i in d.keys():\n",
    "        print(i)\n",
    "        \n",
    "    print(\"\")\n",
    "    \n",
    "    print(\"Values:\")\n",
    "    for j in d.values():\n",
    "        print(j)\n",
    "        \n",
    "print_dict(earthquakes_by_country)"
   ]
  },
  {
   "cell_type": "code",
   "execution_count": null,
   "metadata": {},
   "outputs": [],
   "source": [
    "def print_dict(d):\n",
    "    keys = []\n",
    "    values = []\n",
    "    for key, value in d.items():\n",
    "        keys += [key]\n",
    "        values += [value]\n",
    "    \n",
    "    print(\"Keys:\")\n",
    "    for k in keys:\n",
    "        print(k)\n",
    "    \n",
    "    print(\"\")\n",
    "    \n",
    "    print(\"Values:\")\n",
    "    for v in values:\n",
    "        print(v)\n",
    "        \n",
    "print_dict(earthquakes_by_country)"
   ]
  }
 ],
 "metadata": {
  "kernelspec": {
   "display_name": "Python 3",
   "language": "python",
   "name": "python3"
  },
  "language_info": {
   "codemirror_mode": {
    "name": "ipython",
    "version": 3
   },
   "file_extension": ".py",
   "mimetype": "text/x-python",
   "name": "python",
   "nbconvert_exporter": "python",
   "pygments_lexer": "ipython3",
   "version": "3.8.3"
  }
 },
 "nbformat": 4,
 "nbformat_minor": 4
}
